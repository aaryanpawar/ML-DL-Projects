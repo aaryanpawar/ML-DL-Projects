{
 "cells": [
  {
   "cell_type": "code",
   "execution_count": 1,
   "id": "7580930a",
   "metadata": {
    "_cell_guid": "b1076dfc-b9ad-4769-8c92-a6c4dae69d19",
    "_uuid": "8f2839f25d086af736a60e9eeb907d3b93b6e0e5",
    "execution": {
     "iopub.execute_input": "2021-10-22T00:46:47.355608Z",
     "iopub.status.busy": "2021-10-22T00:46:47.354756Z",
     "iopub.status.idle": "2021-10-22T00:46:47.379667Z",
     "shell.execute_reply": "2021-10-22T00:46:47.379153Z",
     "shell.execute_reply.started": "2021-10-22T00:16:09.261419Z"
    },
    "papermill": {
     "duration": 0.040644,
     "end_time": "2021-10-22T00:46:47.379795",
     "exception": false,
     "start_time": "2021-10-22T00:46:47.339151",
     "status": "completed"
    },
    "tags": []
   },
   "outputs": [
    {
     "name": "stdout",
     "output_type": "stream",
     "text": [
      "/kaggle/input/customer-segmentation-tutorial-in-python/Mall_Customers.csv\n"
     ]
    }
   ],
   "source": [
    "# This Python 3 environment comes with many helpful analytics libraries installed\n",
    "# It is defined by the kaggle/python Docker image: https://github.com/kaggle/docker-python\n",
    "# For example, here's several helpful packages to load\n",
    "\n",
    "import numpy as np # linear algebra\n",
    "import pandas as pd # data processing, CSV file I/O (e.g. pd.read_csv)\n",
    "\n",
    "# Input data files are available in the read-only \"../input/\" directory\n",
    "# For example, running this (by clicking run or pressing Shift+Enter) will list all files under the input directory\n",
    "\n",
    "import os\n",
    "for dirname, _, filenames in os.walk('/kaggle/input'):\n",
    "    for filename in filenames:\n",
    "        print(os.path.join(dirname, filename))\n",
    "\n",
    "# You can write up to 20GB to the current directory (/kaggle/working/) that gets preserved as output when you create a version using \"Save & Run All\" \n",
    "# You can also write temporary files to /kaggle/temp/, but they won't be saved outside of the current session"
   ]
  },
  {
   "cell_type": "code",
   "execution_count": 2,
   "id": "f42b4683",
   "metadata": {
    "execution": {
     "iopub.execute_input": "2021-10-22T00:46:47.404772Z",
     "iopub.status.busy": "2021-10-22T00:46:47.404349Z",
     "iopub.status.idle": "2021-10-22T00:46:48.600005Z",
     "shell.execute_reply": "2021-10-22T00:46:48.599382Z",
     "shell.execute_reply.started": "2021-10-22T00:16:29.582327Z"
    },
    "papermill": {
     "duration": 1.207726,
     "end_time": "2021-10-22T00:46:48.600138",
     "exception": false,
     "start_time": "2021-10-22T00:46:47.392412",
     "status": "completed"
    },
    "tags": []
   },
   "outputs": [],
   "source": [
    "import numpy as np\n",
    "import pandas as pd\n",
    "import matplotlib.pyplot as plt\n",
    "import seaborn as sns\n",
    "from sklearn.cluster import KMeans"
   ]
  },
  {
   "cell_type": "code",
   "execution_count": 3,
   "id": "edfc73f8",
   "metadata": {
    "execution": {
     "iopub.execute_input": "2021-10-22T00:46:48.637478Z",
     "iopub.status.busy": "2021-10-22T00:46:48.636828Z",
     "iopub.status.idle": "2021-10-22T00:46:48.648174Z",
     "shell.execute_reply": "2021-10-22T00:46:48.647635Z",
     "shell.execute_reply.started": "2021-10-22T00:16:44.849607Z"
    },
    "papermill": {
     "duration": 0.031488,
     "end_time": "2021-10-22T00:46:48.648305",
     "exception": false,
     "start_time": "2021-10-22T00:46:48.616817",
     "status": "completed"
    },
    "tags": []
   },
   "outputs": [],
   "source": [
    "df=pd.read_csv('/kaggle/input/customer-segmentation-tutorial-in-python/Mall_Customers.csv')"
   ]
  },
  {
   "cell_type": "code",
   "execution_count": 4,
   "id": "00e2e90e",
   "metadata": {
    "execution": {
     "iopub.execute_input": "2021-10-22T00:46:48.688068Z",
     "iopub.status.busy": "2021-10-22T00:46:48.687268Z",
     "iopub.status.idle": "2021-10-22T00:46:48.697877Z",
     "shell.execute_reply": "2021-10-22T00:46:48.698412Z",
     "shell.execute_reply.started": "2021-10-22T00:16:55.162400Z"
    },
    "papermill": {
     "duration": 0.033731,
     "end_time": "2021-10-22T00:46:48.698559",
     "exception": false,
     "start_time": "2021-10-22T00:46:48.664828",
     "status": "completed"
    },
    "tags": []
   },
   "outputs": [
    {
     "data": {
      "text/html": [
       "<div>\n",
       "<style scoped>\n",
       "    .dataframe tbody tr th:only-of-type {\n",
       "        vertical-align: middle;\n",
       "    }\n",
       "\n",
       "    .dataframe tbody tr th {\n",
       "        vertical-align: top;\n",
       "    }\n",
       "\n",
       "    .dataframe thead th {\n",
       "        text-align: right;\n",
       "    }\n",
       "</style>\n",
       "<table border=\"1\" class=\"dataframe\">\n",
       "  <thead>\n",
       "    <tr style=\"text-align: right;\">\n",
       "      <th></th>\n",
       "      <th>CustomerID</th>\n",
       "      <th>Gender</th>\n",
       "      <th>Age</th>\n",
       "      <th>Annual Income (k$)</th>\n",
       "      <th>Spending Score (1-100)</th>\n",
       "    </tr>\n",
       "  </thead>\n",
       "  <tbody>\n",
       "    <tr>\n",
       "      <th>0</th>\n",
       "      <td>1</td>\n",
       "      <td>Male</td>\n",
       "      <td>19</td>\n",
       "      <td>15</td>\n",
       "      <td>39</td>\n",
       "    </tr>\n",
       "    <tr>\n",
       "      <th>1</th>\n",
       "      <td>2</td>\n",
       "      <td>Male</td>\n",
       "      <td>21</td>\n",
       "      <td>15</td>\n",
       "      <td>81</td>\n",
       "    </tr>\n",
       "    <tr>\n",
       "      <th>2</th>\n",
       "      <td>3</td>\n",
       "      <td>Female</td>\n",
       "      <td>20</td>\n",
       "      <td>16</td>\n",
       "      <td>6</td>\n",
       "    </tr>\n",
       "    <tr>\n",
       "      <th>3</th>\n",
       "      <td>4</td>\n",
       "      <td>Female</td>\n",
       "      <td>23</td>\n",
       "      <td>16</td>\n",
       "      <td>77</td>\n",
       "    </tr>\n",
       "    <tr>\n",
       "      <th>4</th>\n",
       "      <td>5</td>\n",
       "      <td>Female</td>\n",
       "      <td>31</td>\n",
       "      <td>17</td>\n",
       "      <td>40</td>\n",
       "    </tr>\n",
       "  </tbody>\n",
       "</table>\n",
       "</div>"
      ],
      "text/plain": [
       "   CustomerID  Gender  Age  Annual Income (k$)  Spending Score (1-100)\n",
       "0           1    Male   19                  15                      39\n",
       "1           2    Male   21                  15                      81\n",
       "2           3  Female   20                  16                       6\n",
       "3           4  Female   23                  16                      77\n",
       "4           5  Female   31                  17                      40"
      ]
     },
     "execution_count": 4,
     "metadata": {},
     "output_type": "execute_result"
    }
   ],
   "source": [
    "df.head()"
   ]
  },
  {
   "cell_type": "code",
   "execution_count": 5,
   "id": "7dae1117",
   "metadata": {
    "execution": {
     "iopub.execute_input": "2021-10-22T00:46:48.736991Z",
     "iopub.status.busy": "2021-10-22T00:46:48.736199Z",
     "iopub.status.idle": "2021-10-22T00:46:48.738983Z",
     "shell.execute_reply": "2021-10-22T00:46:48.739510Z",
     "shell.execute_reply.started": "2021-10-22T00:17:07.293477Z"
    },
    "papermill": {
     "duration": 0.024354,
     "end_time": "2021-10-22T00:46:48.739648",
     "exception": false,
     "start_time": "2021-10-22T00:46:48.715294",
     "status": "completed"
    },
    "tags": []
   },
   "outputs": [
    {
     "data": {
      "text/plain": [
       "(200, 5)"
      ]
     },
     "execution_count": 5,
     "metadata": {},
     "output_type": "execute_result"
    }
   ],
   "source": [
    "df.shape\n"
   ]
  },
  {
   "cell_type": "code",
   "execution_count": 6,
   "id": "9303b2a6",
   "metadata": {
    "execution": {
     "iopub.execute_input": "2021-10-22T00:46:48.779772Z",
     "iopub.status.busy": "2021-10-22T00:46:48.776735Z",
     "iopub.status.idle": "2021-10-22T00:46:48.796058Z",
     "shell.execute_reply": "2021-10-22T00:46:48.796653Z",
     "shell.execute_reply.started": "2021-10-22T00:17:15.710785Z"
    },
    "papermill": {
     "duration": 0.039424,
     "end_time": "2021-10-22T00:46:48.796813",
     "exception": false,
     "start_time": "2021-10-22T00:46:48.757389",
     "status": "completed"
    },
    "tags": []
   },
   "outputs": [
    {
     "name": "stdout",
     "output_type": "stream",
     "text": [
      "<class 'pandas.core.frame.DataFrame'>\n",
      "RangeIndex: 200 entries, 0 to 199\n",
      "Data columns (total 5 columns):\n",
      " #   Column                  Non-Null Count  Dtype \n",
      "---  ------                  --------------  ----- \n",
      " 0   CustomerID              200 non-null    int64 \n",
      " 1   Gender                  200 non-null    object\n",
      " 2   Age                     200 non-null    int64 \n",
      " 3   Annual Income (k$)      200 non-null    int64 \n",
      " 4   Spending Score (1-100)  200 non-null    int64 \n",
      "dtypes: int64(4), object(1)\n",
      "memory usage: 7.9+ KB\n"
     ]
    }
   ],
   "source": [
    "df.info()"
   ]
  },
  {
   "cell_type": "code",
   "execution_count": 7,
   "id": "f3c23b5b",
   "metadata": {
    "execution": {
     "iopub.execute_input": "2021-10-22T00:46:48.838805Z",
     "iopub.status.busy": "2021-10-22T00:46:48.838026Z",
     "iopub.status.idle": "2021-10-22T00:46:48.842173Z",
     "shell.execute_reply": "2021-10-22T00:46:48.842760Z",
     "shell.execute_reply.started": "2021-10-22T00:17:39.218399Z"
    },
    "papermill": {
     "duration": 0.028252,
     "end_time": "2021-10-22T00:46:48.842962",
     "exception": false,
     "start_time": "2021-10-22T00:46:48.814710",
     "status": "completed"
    },
    "tags": []
   },
   "outputs": [
    {
     "data": {
      "text/plain": [
       "CustomerID                0\n",
       "Gender                    0\n",
       "Age                       0\n",
       "Annual Income (k$)        0\n",
       "Spending Score (1-100)    0\n",
       "dtype: int64"
      ]
     },
     "execution_count": 7,
     "metadata": {},
     "output_type": "execute_result"
    }
   ],
   "source": [
    "df.isnull().sum()"
   ]
  },
  {
   "cell_type": "code",
   "execution_count": 8,
   "id": "3095f1b1",
   "metadata": {
    "execution": {
     "iopub.execute_input": "2021-10-22T00:46:48.886018Z",
     "iopub.status.busy": "2021-10-22T00:46:48.885348Z",
     "iopub.status.idle": "2021-10-22T00:46:48.889878Z",
     "shell.execute_reply": "2021-10-22T00:46:48.890515Z",
     "shell.execute_reply.started": "2021-10-22T00:19:02.077986Z"
    },
    "papermill": {
     "duration": 0.028115,
     "end_time": "2021-10-22T00:46:48.890706",
     "exception": false,
     "start_time": "2021-10-22T00:46:48.862591",
     "status": "completed"
    },
    "tags": []
   },
   "outputs": [],
   "source": [
    "X=df.iloc[ : ,[3,4]].values"
   ]
  },
  {
   "cell_type": "code",
   "execution_count": 9,
   "id": "db73e649",
   "metadata": {
    "execution": {
     "iopub.execute_input": "2021-10-22T00:46:48.927674Z",
     "iopub.status.busy": "2021-10-22T00:46:48.924359Z",
     "iopub.status.idle": "2021-10-22T00:46:48.931625Z",
     "shell.execute_reply": "2021-10-22T00:46:48.932011Z",
     "shell.execute_reply.started": "2021-10-22T00:19:09.982430Z"
    },
    "papermill": {
     "duration": 0.02371,
     "end_time": "2021-10-22T00:46:48.932118",
     "exception": false,
     "start_time": "2021-10-22T00:46:48.908408",
     "status": "completed"
    },
    "tags": []
   },
   "outputs": [
    {
     "name": "stdout",
     "output_type": "stream",
     "text": [
      "[[ 15  39]\n",
      " [ 15  81]\n",
      " [ 16   6]\n",
      " [ 16  77]\n",
      " [ 17  40]\n",
      " [ 17  76]\n",
      " [ 18   6]\n",
      " [ 18  94]\n",
      " [ 19   3]\n",
      " [ 19  72]\n",
      " [ 19  14]\n",
      " [ 19  99]\n",
      " [ 20  15]\n",
      " [ 20  77]\n",
      " [ 20  13]\n",
      " [ 20  79]\n",
      " [ 21  35]\n",
      " [ 21  66]\n",
      " [ 23  29]\n",
      " [ 23  98]\n",
      " [ 24  35]\n",
      " [ 24  73]\n",
      " [ 25   5]\n",
      " [ 25  73]\n",
      " [ 28  14]\n",
      " [ 28  82]\n",
      " [ 28  32]\n",
      " [ 28  61]\n",
      " [ 29  31]\n",
      " [ 29  87]\n",
      " [ 30   4]\n",
      " [ 30  73]\n",
      " [ 33   4]\n",
      " [ 33  92]\n",
      " [ 33  14]\n",
      " [ 33  81]\n",
      " [ 34  17]\n",
      " [ 34  73]\n",
      " [ 37  26]\n",
      " [ 37  75]\n",
      " [ 38  35]\n",
      " [ 38  92]\n",
      " [ 39  36]\n",
      " [ 39  61]\n",
      " [ 39  28]\n",
      " [ 39  65]\n",
      " [ 40  55]\n",
      " [ 40  47]\n",
      " [ 40  42]\n",
      " [ 40  42]\n",
      " [ 42  52]\n",
      " [ 42  60]\n",
      " [ 43  54]\n",
      " [ 43  60]\n",
      " [ 43  45]\n",
      " [ 43  41]\n",
      " [ 44  50]\n",
      " [ 44  46]\n",
      " [ 46  51]\n",
      " [ 46  46]\n",
      " [ 46  56]\n",
      " [ 46  55]\n",
      " [ 47  52]\n",
      " [ 47  59]\n",
      " [ 48  51]\n",
      " [ 48  59]\n",
      " [ 48  50]\n",
      " [ 48  48]\n",
      " [ 48  59]\n",
      " [ 48  47]\n",
      " [ 49  55]\n",
      " [ 49  42]\n",
      " [ 50  49]\n",
      " [ 50  56]\n",
      " [ 54  47]\n",
      " [ 54  54]\n",
      " [ 54  53]\n",
      " [ 54  48]\n",
      " [ 54  52]\n",
      " [ 54  42]\n",
      " [ 54  51]\n",
      " [ 54  55]\n",
      " [ 54  41]\n",
      " [ 54  44]\n",
      " [ 54  57]\n",
      " [ 54  46]\n",
      " [ 57  58]\n",
      " [ 57  55]\n",
      " [ 58  60]\n",
      " [ 58  46]\n",
      " [ 59  55]\n",
      " [ 59  41]\n",
      " [ 60  49]\n",
      " [ 60  40]\n",
      " [ 60  42]\n",
      " [ 60  52]\n",
      " [ 60  47]\n",
      " [ 60  50]\n",
      " [ 61  42]\n",
      " [ 61  49]\n",
      " [ 62  41]\n",
      " [ 62  48]\n",
      " [ 62  59]\n",
      " [ 62  55]\n",
      " [ 62  56]\n",
      " [ 62  42]\n",
      " [ 63  50]\n",
      " [ 63  46]\n",
      " [ 63  43]\n",
      " [ 63  48]\n",
      " [ 63  52]\n",
      " [ 63  54]\n",
      " [ 64  42]\n",
      " [ 64  46]\n",
      " [ 65  48]\n",
      " [ 65  50]\n",
      " [ 65  43]\n",
      " [ 65  59]\n",
      " [ 67  43]\n",
      " [ 67  57]\n",
      " [ 67  56]\n",
      " [ 67  40]\n",
      " [ 69  58]\n",
      " [ 69  91]\n",
      " [ 70  29]\n",
      " [ 70  77]\n",
      " [ 71  35]\n",
      " [ 71  95]\n",
      " [ 71  11]\n",
      " [ 71  75]\n",
      " [ 71   9]\n",
      " [ 71  75]\n",
      " [ 72  34]\n",
      " [ 72  71]\n",
      " [ 73   5]\n",
      " [ 73  88]\n",
      " [ 73   7]\n",
      " [ 73  73]\n",
      " [ 74  10]\n",
      " [ 74  72]\n",
      " [ 75   5]\n",
      " [ 75  93]\n",
      " [ 76  40]\n",
      " [ 76  87]\n",
      " [ 77  12]\n",
      " [ 77  97]\n",
      " [ 77  36]\n",
      " [ 77  74]\n",
      " [ 78  22]\n",
      " [ 78  90]\n",
      " [ 78  17]\n",
      " [ 78  88]\n",
      " [ 78  20]\n",
      " [ 78  76]\n",
      " [ 78  16]\n",
      " [ 78  89]\n",
      " [ 78   1]\n",
      " [ 78  78]\n",
      " [ 78   1]\n",
      " [ 78  73]\n",
      " [ 79  35]\n",
      " [ 79  83]\n",
      " [ 81   5]\n",
      " [ 81  93]\n",
      " [ 85  26]\n",
      " [ 85  75]\n",
      " [ 86  20]\n",
      " [ 86  95]\n",
      " [ 87  27]\n",
      " [ 87  63]\n",
      " [ 87  13]\n",
      " [ 87  75]\n",
      " [ 87  10]\n",
      " [ 87  92]\n",
      " [ 88  13]\n",
      " [ 88  86]\n",
      " [ 88  15]\n",
      " [ 88  69]\n",
      " [ 93  14]\n",
      " [ 93  90]\n",
      " [ 97  32]\n",
      " [ 97  86]\n",
      " [ 98  15]\n",
      " [ 98  88]\n",
      " [ 99  39]\n",
      " [ 99  97]\n",
      " [101  24]\n",
      " [101  68]\n",
      " [103  17]\n",
      " [103  85]\n",
      " [103  23]\n",
      " [103  69]\n",
      " [113   8]\n",
      " [113  91]\n",
      " [120  16]\n",
      " [120  79]\n",
      " [126  28]\n",
      " [126  74]\n",
      " [137  18]\n",
      " [137  83]]\n"
     ]
    }
   ],
   "source": [
    "print(X)"
   ]
  },
  {
   "cell_type": "markdown",
   "id": "66a64aff",
   "metadata": {
    "papermill": {
     "duration": 0.011684,
     "end_time": "2021-10-22T00:46:48.955879",
     "exception": false,
     "start_time": "2021-10-22T00:46:48.944195",
     "status": "completed"
    },
    "tags": []
   },
   "source": [
    "finding number of clusters"
   ]
  },
  {
   "cell_type": "code",
   "execution_count": 10,
   "id": "135e8c26",
   "metadata": {
    "execution": {
     "iopub.execute_input": "2021-10-22T00:46:48.982222Z",
     "iopub.status.busy": "2021-10-22T00:46:48.981777Z",
     "iopub.status.idle": "2021-10-22T00:46:49.405403Z",
     "shell.execute_reply": "2021-10-22T00:46:49.405020Z",
     "shell.execute_reply.started": "2021-10-22T00:26:20.742277Z"
    },
    "papermill": {
     "duration": 0.437678,
     "end_time": "2021-10-22T00:46:49.405508",
     "exception": false,
     "start_time": "2021-10-22T00:46:48.967830",
     "status": "completed"
    },
    "tags": []
   },
   "outputs": [],
   "source": [
    "#wcss value for diff clusters\n",
    "wcss=[]\n",
    "for i in range(1,11):\n",
    "    kmeans=KMeans(n_clusters=i,init='k-means++',random_state=2)\n",
    "    kmeans.fit(X)\n",
    "    \n",
    "    wcss.append(kmeans.inertia_)\n",
    "    "
   ]
  },
  {
   "cell_type": "code",
   "execution_count": 11,
   "id": "dba57839",
   "metadata": {
    "execution": {
     "iopub.execute_input": "2021-10-22T00:46:49.464379Z",
     "iopub.status.busy": "2021-10-22T00:46:49.453833Z",
     "iopub.status.idle": "2021-10-22T00:46:49.662045Z",
     "shell.execute_reply": "2021-10-22T00:46:49.662395Z",
     "shell.execute_reply.started": "2021-10-22T00:27:44.086021Z"
    },
    "papermill": {
     "duration": 0.244728,
     "end_time": "2021-10-22T00:46:49.662521",
     "exception": false,
     "start_time": "2021-10-22T00:46:49.417793",
     "status": "completed"
    },
    "tags": []
   },
   "outputs": [
    {
     "data": {
      "image/png": "[encoded data removed]",
      "text/plain": [
       "<Figure size 432x288 with 1 Axes>"
      ]
     },
     "metadata": {},
     "output_type": "display_data"
    }
   ],
   "source": [
    "#plotting elbow graph\n",
    "sns.set()\n",
    "plt.plot(range(1,11),wcss)\n",
    "plt.title('The Elbow Point Graph')\n",
    "plt.xlabel('Number of Clusters')\n",
    "plt.ylabel('WCSS')\n",
    "plt.show()"
   ]
  },
  {
   "cell_type": "markdown",
   "id": "df935e18",
   "metadata": {
    "papermill": {
     "duration": 0.012664,
     "end_time": "2021-10-22T00:46:49.688280",
     "exception": false,
     "start_time": "2021-10-22T00:46:49.675616",
     "status": "completed"
    },
    "tags": []
   },
   "source": [
    "no. of clusters=5"
   ]
  },
  {
   "cell_type": "code",
   "execution_count": 12,
   "id": "66566a06",
   "metadata": {
    "execution": {
     "iopub.execute_input": "2021-10-22T00:46:49.719090Z",
     "iopub.status.busy": "2021-10-22T00:46:49.718502Z",
     "iopub.status.idle": "2021-10-22T00:46:49.745591Z",
     "shell.execute_reply": "2021-10-22T00:46:49.745203Z",
     "shell.execute_reply.started": "2021-10-22T00:30:45.743293Z"
    },
    "papermill": {
     "duration": 0.044196,
     "end_time": "2021-10-22T00:46:49.745690",
     "exception": false,
     "start_time": "2021-10-22T00:46:49.701494",
     "status": "completed"
    },
    "tags": []
   },
   "outputs": [
    {
     "name": "stdout",
     "output_type": "stream",
     "text": [
      "[3 0 3 0 3 0 3 0 3 0 3 0 3 0 3 0 3 0 3 0 3 0 3 0 3 0 3 0 3 0 3 0 3 0 3 0 3\n",
      " 0 3 0 3 0 3 4 3 0 4 4 4 4 4 4 4 4 4 4 4 4 4 4 4 4 4 4 4 4 4 4 4 4 4 4 4 4\n",
      " 4 4 4 4 4 4 4 4 4 4 4 4 4 4 4 4 4 4 4 4 4 4 4 4 4 4 4 4 4 4 4 4 4 4 4 4 4\n",
      " 4 4 4 4 4 4 4 4 4 4 4 4 1 2 1 4 1 2 1 2 1 4 1 2 1 2 1 2 1 2 1 4 1 2 1 2 1\n",
      " 2 1 2 1 2 1 2 1 2 1 2 1 2 1 2 1 2 1 2 1 2 1 2 1 2 1 2 1 2 1 2 1 2 1 2 1 2\n",
      " 1 2 1 2 1 2 1 2 1 2 1 2 1 2 1]\n"
     ]
    }
   ],
   "source": [
    "kmeans = KMeans(n_clusters=5, init='k-means++', random_state=2)\n",
    "\n",
    "# return a label for each data point based on their cluster\n",
    "Y = kmeans.fit_predict(X)\n",
    "\n",
    "print(Y)"
   ]
  },
  {
   "cell_type": "markdown",
   "id": "a5e792ef",
   "metadata": {
    "papermill": {
     "duration": 0.013277,
     "end_time": "2021-10-22T00:46:49.772414",
     "exception": false,
     "start_time": "2021-10-22T00:46:49.759137",
     "status": "completed"
    },
    "tags": []
   },
   "source": [
    "Plotting Data"
   ]
  },
  {
   "cell_type": "code",
   "execution_count": 13,
   "id": "caf07654",
   "metadata": {
    "execution": {
     "iopub.execute_input": "2021-10-22T00:46:49.800258Z",
     "iopub.status.busy": "2021-10-22T00:46:49.799805Z",
     "iopub.status.idle": "2021-10-22T00:46:50.104444Z",
     "shell.execute_reply": "2021-10-22T00:46:50.104794Z",
     "shell.execute_reply.started": "2021-10-22T00:41:37.354514Z"
    },
    "papermill": {
     "duration": 0.319757,
     "end_time": "2021-10-22T00:46:50.104942",
     "exception": false,
     "start_time": "2021-10-22T00:46:49.785185",
     "status": "completed"
    },
    "tags": []
   },
   "outputs": [
    {
     "data": {
      "image/png": "[encoded data removed]",
      "text/plain": [
       "<Figure size 720x720 with 1 Axes>"
      ]
     },
     "metadata": {},
     "output_type": "display_data"
    }
   ],
   "source": [
    "# plotting all the clusters and their Centroids\n",
    "\n",
    "plt.figure(figsize=(10,10))\n",
    "plt.scatter(X[Y==0,0], X[Y==0,1], s=50, c='green', label='Cluster 1')\n",
    "plt.scatter(X[Y==1,0], X[Y==1,1], s=50, c='red', label='Cluster 2')\n",
    "plt.scatter(X[Y==2,0], X[Y==2,1], s=50, c='yellow', label='Cluster 3')\n",
    "plt.scatter(X[Y==3,0], X[Y==3,1], s=50, c='violet', label='Cluster 4')\n",
    "plt.scatter(X[Y==4,0], X[Y==4,1], s=50, c='blue', label='Cluster 5')\n",
    "\n",
    "# plot the centroids\n",
    "plt.scatter(kmeans.cluster_centers_[:,0], kmeans.cluster_centers_[:,1], s=100, c='cyan', label='Centroids')\n",
    "\n",
    "plt.title('Customer Groups')\n",
    "plt.xlabel('Annual Income')\n",
    "plt.ylabel('Spending Score')\n",
    "plt.show()"
   ]
  },
  {
   "cell_type": "code",
   "execution_count": null,
   "id": "bf37c489",
   "metadata": {
    "papermill": {
     "duration": 0.013603,
     "end_time": "2021-10-22T00:46:50.132699",
     "exception": false,
     "start_time": "2021-10-22T00:46:50.119096",
     "status": "completed"
    },
    "tags": []
   },
   "outputs": [],
   "source": []
  }
 ],
 "metadata": {
  "kernelspec": {
   "display_name": "Python 3",
   "language": "python",
   "name": "python3"
  },
  "language_info": {
   "codemirror_mode": {
    "name": "ipython",
    "version": 3
   },
   "file_extension": ".py",
   "mimetype": "text/x-python",
   "name": "python",
   "nbconvert_exporter": "python",
   "pygments_lexer": "ipython3",
   "version": "3.7.10"
  },
  "papermill": {
   "default_parameters": {},
   "duration": 10.434633,
   "end_time": "2021-10-22T00:46:50.754262",
   "environment_variables": {},
   "exception": null,
   "input_path": "__notebook__.ipynb",
   "output_path": "__notebook__.ipynb",
   "parameters": {},
   "start_time": "2021-10-22T00:46:40.319629",
   "version": "2.3.3"
  }
 },
 "nbformat": 4,
 "nbformat_minor": 5
}
