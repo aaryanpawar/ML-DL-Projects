{
 "cells": [
  {
   "cell_type": "code",
   "execution_count": 1,
   "id": "861c8a96",
   "metadata": {
    "_cell_guid": "b1076dfc-b9ad-4769-8c92-a6c4dae69d19",
    "_uuid": "8f2839f25d086af736a60e9eeb907d3b93b6e0e5",
    "execution": {
     "iopub.execute_input": "2021-10-11T20:53:41.233266Z",
     "iopub.status.busy": "2021-10-11T20:53:41.231550Z",
     "iopub.status.idle": "2021-10-11T20:53:41.245387Z",
     "shell.execute_reply": "2021-10-11T20:53:41.245875Z",
     "shell.execute_reply.started": "2021-10-11T20:45:12.556141Z"
    },
    "papermill": {
     "duration": 0.035956,
     "end_time": "2021-10-11T20:53:41.246205",
     "exception": false,
     "start_time": "2021-10-11T20:53:41.210249",
     "status": "completed"
    },
    "tags": []
   },
   "outputs": [
    {
     "name": "stdout",
     "output_type": "stream",
     "text": [
      "/kaggle/input/fake-news/submit.csv\n",
      "/kaggle/input/fake-news/train.csv\n",
      "/kaggle/input/fake-news/test.csv\n"
     ]
    }
   ],
   "source": [
    "# This Python 3 environment comes with many helpful analytics libraries installed\n",
    "# It is defined by the kaggle/python Docker image: https://github.com/kaggle/docker-python\n",
    "# For example, here's several helpful packages to load\n",
    "\n",
    "import numpy as np # linear algebra\n",
    "import pandas as pd # data processing, CSV file I/O (e.g. pd.read_csv)\n",
    "\n",
    "# Input data files are available in the read-only \"../input/\" directory\n",
    "# For example, running this (by clicking run or pressing Shift+Enter) will list all files under the input directory\n",
    "\n",
    "import os\n",
    "for dirname, _, filenames in os.walk('/kaggle/input'):\n",
    "    for filename in filenames:\n",
    "        print(os.path.join(dirname, filename))\n",
    "\n",
    "# You can write up to 20GB to the current directory (/kaggle/working/) that gets preserved as output when you create a version using \"Save & Run All\" \n",
    "# You can also write temporary files to /kaggle/temp/, but they won't be saved outside of the current session"
   ]
  },
  {
   "cell_type": "markdown",
   "id": "e99f0c7a",
   "metadata": {
    "papermill": {
     "duration": 0.016249,
     "end_time": "2021-10-11T20:53:41.280470",
     "exception": false,
     "start_time": "2021-10-11T20:53:41.264221",
     "status": "completed"
    },
    "tags": []
   },
   "source": [
    "Importing the Dependencies"
   ]
  },
  {
   "cell_type": "markdown",
   "id": "839c0e33",
   "metadata": {
    "papermill": {
     "duration": 0.01562,
     "end_time": "2021-10-11T20:53:41.313206",
     "exception": false,
     "start_time": "2021-10-11T20:53:41.297586",
     "status": "completed"
    },
    "tags": []
   },
   "source": []
  },
  {
   "cell_type": "code",
   "execution_count": 2,
   "id": "ca6edc74",
   "metadata": {
    "execution": {
     "iopub.execute_input": "2021-10-11T20:53:41.351389Z",
     "iopub.status.busy": "2021-10-11T20:53:41.350668Z",
     "iopub.status.idle": "2021-10-11T20:53:42.922215Z",
     "shell.execute_reply": "2021-10-11T20:53:42.921614Z",
     "shell.execute_reply.started": "2021-10-11T20:45:12.568079Z"
    },
    "papermill": {
     "duration": 1.59234,
     "end_time": "2021-10-11T20:53:42.922381",
     "exception": false,
     "start_time": "2021-10-11T20:53:41.330041",
     "status": "completed"
    },
    "tags": []
   },
   "outputs": [],
   "source": [
    "import numpy as np\n",
    "import pandas as pd\n",
    "import re\n",
    "from nltk.corpus import stopwords\n",
    "from nltk.stem.porter import PorterStemmer\n",
    "from sklearn.feature_extraction.text import TfidfVectorizer\n",
    "from sklearn.model_selection import train_test_split\n",
    "from sklearn.linear_model import LogisticRegression\n",
    "from sklearn.metrics import accuracy_score"
   ]
  },
  {
   "cell_type": "code",
   "execution_count": 3,
   "id": "790dd347",
   "metadata": {
    "execution": {
     "iopub.execute_input": "2021-10-11T20:53:42.961384Z",
     "iopub.status.busy": "2021-10-11T20:53:42.960693Z",
     "iopub.status.idle": "2021-10-11T20:54:03.004201Z",
     "shell.execute_reply": "2021-10-11T20:54:03.004874Z",
     "shell.execute_reply.started": "2021-10-11T20:45:14.092113Z"
    },
    "papermill": {
     "duration": 20.066732,
     "end_time": "2021-10-11T20:54:03.005119",
     "exception": false,
     "start_time": "2021-10-11T20:53:42.938387",
     "status": "completed"
    },
    "tags": []
   },
   "outputs": [
    {
     "name": "stdout",
     "output_type": "stream",
     "text": [
      "[nltk_data] Error loading stopwords: <urlopen error [Errno -3]\n",
      "[nltk_data]     Temporary failure in name resolution>\n"
     ]
    },
    {
     "data": {
      "text/plain": [
       "False"
      ]
     },
     "execution_count": 3,
     "metadata": {},
     "output_type": "execute_result"
    }
   ],
   "source": [
    "import nltk\n",
    "nltk.download('stopwords')"
   ]
  },
  {
   "cell_type": "markdown",
   "id": "5bb24009",
   "metadata": {
    "papermill": {
     "duration": 0.016076,
     "end_time": "2021-10-11T20:54:03.039131",
     "exception": false,
     "start_time": "2021-10-11T20:54:03.023055",
     "status": "completed"
    },
    "tags": []
   },
   "source": [
    "Data PreProcessing"
   ]
  },
  {
   "cell_type": "code",
   "execution_count": 4,
   "id": "76761717",
   "metadata": {
    "execution": {
     "iopub.execute_input": "2021-10-11T20:54:03.078837Z",
     "iopub.status.busy": "2021-10-11T20:54:03.078173Z",
     "iopub.status.idle": "2021-10-11T20:54:06.757353Z",
     "shell.execute_reply": "2021-10-11T20:54:06.757840Z",
     "shell.execute_reply.started": "2021-10-11T20:45:34.138312Z"
    },
    "papermill": {
     "duration": 3.700989,
     "end_time": "2021-10-11T20:54:06.758042",
     "exception": false,
     "start_time": "2021-10-11T20:54:03.057053",
     "status": "completed"
    },
    "tags": []
   },
   "outputs": [],
   "source": [
    "train_data=pd.read_csv('/kaggle/input/fake-news/train.csv')\n",
    "test_data=pd.read_csv('/kaggle/input/fake-news/test.csv')"
   ]
  },
  {
   "cell_type": "code",
   "execution_count": 5,
   "id": "6333ceb0",
   "metadata": {
    "execution": {
     "iopub.execute_input": "2021-10-11T20:54:06.795173Z",
     "iopub.status.busy": "2021-10-11T20:54:06.794380Z",
     "iopub.status.idle": "2021-10-11T20:54:06.800378Z",
     "shell.execute_reply": "2021-10-11T20:54:06.800843Z",
     "shell.execute_reply.started": "2021-10-11T20:45:38.011483Z"
    },
    "papermill": {
     "duration": 0.02571,
     "end_time": "2021-10-11T20:54:06.801049",
     "exception": false,
     "start_time": "2021-10-11T20:54:06.775339",
     "status": "completed"
    },
    "tags": []
   },
   "outputs": [
    {
     "data": {
      "text/plain": [
       "(20800, 5)"
      ]
     },
     "execution_count": 5,
     "metadata": {},
     "output_type": "execute_result"
    }
   ],
   "source": [
    "train_data.shape\n"
   ]
  },
  {
   "cell_type": "code",
   "execution_count": 6,
   "id": "82c4a8e2",
   "metadata": {
    "execution": {
     "iopub.execute_input": "2021-10-11T20:54:06.839153Z",
     "iopub.status.busy": "2021-10-11T20:54:06.838463Z",
     "iopub.status.idle": "2021-10-11T20:54:06.842497Z",
     "shell.execute_reply": "2021-10-11T20:54:06.842918Z",
     "shell.execute_reply.started": "2021-10-11T20:45:38.027213Z"
    },
    "papermill": {
     "duration": 0.025422,
     "end_time": "2021-10-11T20:54:06.843114",
     "exception": false,
     "start_time": "2021-10-11T20:54:06.817692",
     "status": "completed"
    },
    "tags": []
   },
   "outputs": [
    {
     "data": {
      "text/plain": [
       "(5200, 4)"
      ]
     },
     "execution_count": 6,
     "metadata": {},
     "output_type": "execute_result"
    }
   ],
   "source": [
    "test_data.shape"
   ]
  },
  {
   "cell_type": "code",
   "execution_count": 7,
   "id": "30edca75",
   "metadata": {
    "execution": {
     "iopub.execute_input": "2021-10-11T20:54:06.884809Z",
     "iopub.status.busy": "2021-10-11T20:54:06.880719Z",
     "iopub.status.idle": "2021-10-11T20:54:06.899471Z",
     "shell.execute_reply": "2021-10-11T20:54:06.898905Z",
     "shell.execute_reply.started": "2021-10-11T20:45:38.040101Z"
    },
    "papermill": {
     "duration": 0.039592,
     "end_time": "2021-10-11T20:54:06.899606",
     "exception": false,
     "start_time": "2021-10-11T20:54:06.860014",
     "status": "completed"
    },
    "tags": []
   },
   "outputs": [
    {
     "data": {
      "text/html": [
       "<div>\n",
       "<style scoped>\n",
       "    .dataframe tbody tr th:only-of-type {\n",
       "        vertical-align: middle;\n",
       "    }\n",
       "\n",
       "    .dataframe tbody tr th {\n",
       "        vertical-align: top;\n",
       "    }\n",
       "\n",
       "    .dataframe thead th {\n",
       "        text-align: right;\n",
       "    }\n",
       "</style>\n",
       "<table border=\"1\" class=\"dataframe\">\n",
       "  <thead>\n",
       "    <tr style=\"text-align: right;\">\n",
       "      <th></th>\n",
       "      <th>id</th>\n",
       "      <th>title</th>\n",
       "      <th>author</th>\n",
       "      <th>text</th>\n",
       "      <th>label</th>\n",
       "    </tr>\n",
       "  </thead>\n",
       "  <tbody>\n",
       "    <tr>\n",
       "      <th>0</th>\n",
       "      <td>0</td>\n",
       "      <td>House Dem Aide: We Didn’t Even See Comey’s Let...</td>\n",
       "      <td>Darrell Lucus</td>\n",
       "      <td>House Dem Aide: We Didn’t Even See Comey’s Let...</td>\n",
       "      <td>1</td>\n",
       "    </tr>\n",
       "    <tr>\n",
       "      <th>1</th>\n",
       "      <td>1</td>\n",
       "      <td>FLYNN: Hillary Clinton, Big Woman on Campus - ...</td>\n",
       "      <td>Daniel J. Flynn</td>\n",
       "      <td>Ever get the feeling your life circles the rou...</td>\n",
       "      <td>0</td>\n",
       "    </tr>\n",
       "    <tr>\n",
       "      <th>2</th>\n",
       "      <td>2</td>\n",
       "      <td>Why the Truth Might Get You Fired</td>\n",
       "      <td>Consortiumnews.com</td>\n",
       "      <td>Why the Truth Might Get You Fired October 29, ...</td>\n",
       "      <td>1</td>\n",
       "    </tr>\n",
       "    <tr>\n",
       "      <th>3</th>\n",
       "      <td>3</td>\n",
       "      <td>15 Civilians Killed In Single US Airstrike Hav...</td>\n",
       "      <td>Jessica Purkiss</td>\n",
       "      <td>Videos 15 Civilians Killed In Single US Airstr...</td>\n",
       "      <td>1</td>\n",
       "    </tr>\n",
       "    <tr>\n",
       "      <th>4</th>\n",
       "      <td>4</td>\n",
       "      <td>Iranian woman jailed for fictional unpublished...</td>\n",
       "      <td>Howard Portnoy</td>\n",
       "      <td>Print \\nAn Iranian woman has been sentenced to...</td>\n",
       "      <td>1</td>\n",
       "    </tr>\n",
       "  </tbody>\n",
       "</table>\n",
       "</div>"
      ],
      "text/plain": [
       "   id                                              title              author  \\\n",
       "0   0  House Dem Aide: We Didn’t Even See Comey’s Let...       Darrell Lucus   \n",
       "1   1  FLYNN: Hillary Clinton, Big Woman on Campus - ...     Daniel J. Flynn   \n",
       "2   2                  Why the Truth Might Get You Fired  Consortiumnews.com   \n",
       "3   3  15 Civilians Killed In Single US Airstrike Hav...     Jessica Purkiss   \n",
       "4   4  Iranian woman jailed for fictional unpublished...      Howard Portnoy   \n",
       "\n",
       "                                                text  label  \n",
       "0  House Dem Aide: We Didn’t Even See Comey’s Let...      1  \n",
       "1  Ever get the feeling your life circles the rou...      0  \n",
       "2  Why the Truth Might Get You Fired October 29, ...      1  \n",
       "3  Videos 15 Civilians Killed In Single US Airstr...      1  \n",
       "4  Print \\nAn Iranian woman has been sentenced to...      1  "
      ]
     },
     "execution_count": 7,
     "metadata": {},
     "output_type": "execute_result"
    }
   ],
   "source": [
    "train_data.head()"
   ]
  },
  {
   "cell_type": "code",
   "execution_count": 8,
   "id": "25dc4142",
   "metadata": {
    "execution": {
     "iopub.execute_input": "2021-10-11T20:54:06.945364Z",
     "iopub.status.busy": "2021-10-11T20:54:06.944715Z",
     "iopub.status.idle": "2021-10-11T20:54:06.952507Z",
     "shell.execute_reply": "2021-10-11T20:54:06.952051Z",
     "shell.execute_reply.started": "2021-10-11T20:45:38.066777Z"
    },
    "papermill": {
     "duration": 0.035608,
     "end_time": "2021-10-11T20:54:06.952638",
     "exception": false,
     "start_time": "2021-10-11T20:54:06.917030",
     "status": "completed"
    },
    "tags": []
   },
   "outputs": [
    {
     "data": {
      "text/plain": [
       "id           0\n",
       "title      558\n",
       "author    1957\n",
       "text        39\n",
       "label        0\n",
       "dtype: int64"
      ]
     },
     "execution_count": 8,
     "metadata": {},
     "output_type": "execute_result"
    }
   ],
   "source": [
    "#missing values\n",
    "train_data.isnull().sum()"
   ]
  },
  {
   "cell_type": "code",
   "execution_count": 9,
   "id": "b9333936",
   "metadata": {
    "execution": {
     "iopub.execute_input": "2021-10-11T20:54:06.992021Z",
     "iopub.status.busy": "2021-10-11T20:54:06.991371Z",
     "iopub.status.idle": "2021-10-11T20:54:07.000288Z",
     "shell.execute_reply": "2021-10-11T20:54:06.999772Z",
     "shell.execute_reply.started": "2021-10-11T20:45:38.089128Z"
    },
    "papermill": {
     "duration": 0.029692,
     "end_time": "2021-10-11T20:54:07.000423",
     "exception": false,
     "start_time": "2021-10-11T20:54:06.970731",
     "status": "completed"
    },
    "tags": []
   },
   "outputs": [
    {
     "data": {
      "text/plain": [
       "id          0\n",
       "title     122\n",
       "author    503\n",
       "text        7\n",
       "dtype: int64"
      ]
     },
     "execution_count": 9,
     "metadata": {},
     "output_type": "execute_result"
    }
   ],
   "source": [
    "test_data.isnull().sum()"
   ]
  },
  {
   "cell_type": "code",
   "execution_count": 10,
   "id": "2b6b0287",
   "metadata": {
    "execution": {
     "iopub.execute_input": "2021-10-11T20:54:07.041154Z",
     "iopub.status.busy": "2021-10-11T20:54:07.040508Z",
     "iopub.status.idle": "2021-10-11T20:54:07.054319Z",
     "shell.execute_reply": "2021-10-11T20:54:07.054767Z",
     "shell.execute_reply.started": "2021-10-11T20:45:38.102598Z"
    },
    "papermill": {
     "duration": 0.03645,
     "end_time": "2021-10-11T20:54:07.054965",
     "exception": false,
     "start_time": "2021-10-11T20:54:07.018515",
     "status": "completed"
    },
    "tags": []
   },
   "outputs": [],
   "source": [
    "train_data=train_data.fillna(' ')\n",
    "test_data=test_data.fillna(' ')"
   ]
  },
  {
   "cell_type": "code",
   "execution_count": 11,
   "id": "5dea0a09",
   "metadata": {
    "execution": {
     "iopub.execute_input": "2021-10-11T20:54:07.094181Z",
     "iopub.status.busy": "2021-10-11T20:54:07.093259Z",
     "iopub.status.idle": "2021-10-11T20:54:07.112576Z",
     "shell.execute_reply": "2021-10-11T20:54:07.112028Z",
     "shell.execute_reply.started": "2021-10-11T20:45:38.121869Z"
    },
    "papermill": {
     "duration": 0.039959,
     "end_time": "2021-10-11T20:54:07.112710",
     "exception": false,
     "start_time": "2021-10-11T20:54:07.072751",
     "status": "completed"
    },
    "tags": []
   },
   "outputs": [],
   "source": [
    "#merging author name and news title\n",
    "train_data['content']=train_data['author']+' '+train_data['title']"
   ]
  },
  {
   "cell_type": "code",
   "execution_count": 12,
   "id": "797795ef",
   "metadata": {
    "execution": {
     "iopub.execute_input": "2021-10-11T20:54:07.155723Z",
     "iopub.status.busy": "2021-10-11T20:54:07.154686Z",
     "iopub.status.idle": "2021-10-11T20:54:07.166286Z",
     "shell.execute_reply": "2021-10-11T20:54:07.166706Z",
     "shell.execute_reply.started": "2021-10-11T20:45:38.144631Z"
    },
    "papermill": {
     "duration": 0.035713,
     "end_time": "2021-10-11T20:54:07.166879",
     "exception": false,
     "start_time": "2021-10-11T20:54:07.131166",
     "status": "completed"
    },
    "tags": []
   },
   "outputs": [],
   "source": [
    "X=train_data.drop(columns='label', axis=1)\n",
    "Y=train_data['label']"
   ]
  },
  {
   "cell_type": "markdown",
   "id": "fb5b3816",
   "metadata": {
    "papermill": {
     "duration": 0.017296,
     "end_time": "2021-10-11T20:54:07.202105",
     "exception": false,
     "start_time": "2021-10-11T20:54:07.184809",
     "status": "completed"
    },
    "tags": []
   },
   "source": [
    "Stemming (reducing word to its root word)"
   ]
  },
  {
   "cell_type": "code",
   "execution_count": 13,
   "id": "bdb5dc44",
   "metadata": {
    "execution": {
     "iopub.execute_input": "2021-10-11T20:54:07.241996Z",
     "iopub.status.busy": "2021-10-11T20:54:07.241089Z",
     "iopub.status.idle": "2021-10-11T20:54:07.243872Z",
     "shell.execute_reply": "2021-10-11T20:54:07.243417Z",
     "shell.execute_reply.started": "2021-10-11T20:45:38.161730Z"
    },
    "papermill": {
     "duration": 0.024281,
     "end_time": "2021-10-11T20:54:07.244017",
     "exception": false,
     "start_time": "2021-10-11T20:54:07.219736",
     "status": "completed"
    },
    "tags": []
   },
   "outputs": [],
   "source": [
    "port_stem=PorterStemmer()"
   ]
  },
  {
   "cell_type": "code",
   "execution_count": 14,
   "id": "a2aa2dca",
   "metadata": {
    "execution": {
     "iopub.execute_input": "2021-10-11T20:54:07.284687Z",
     "iopub.status.busy": "2021-10-11T20:54:07.284092Z",
     "iopub.status.idle": "2021-10-11T20:54:07.286037Z",
     "shell.execute_reply": "2021-10-11T20:54:07.286475Z",
     "shell.execute_reply.started": "2021-10-11T20:45:38.168129Z"
    },
    "papermill": {
     "duration": 0.025011,
     "end_time": "2021-10-11T20:54:07.286636",
     "exception": false,
     "start_time": "2021-10-11T20:54:07.261625",
     "status": "completed"
    },
    "tags": []
   },
   "outputs": [],
   "source": [
    "def stemming(content):\n",
    "    stemmed_content = re.sub('[^a-zA-Z]',' ',content)\n",
    "    stemmed_content = stemmed_content.lower()\n",
    "    stemmed_content = stemmed_content.split()\n",
    "    stemmed_content = [port_stem.stem(word) for word in stemmed_content if not word in stopwords.words('english')]\n",
    "    stemmed_content = ' '.join(stemmed_content)\n",
    "    return stemmed_content"
   ]
  },
  {
   "cell_type": "code",
   "execution_count": 15,
   "id": "671cad0c",
   "metadata": {
    "execution": {
     "iopub.execute_input": "2021-10-11T20:54:07.324978Z",
     "iopub.status.busy": "2021-10-11T20:54:07.324415Z",
     "iopub.status.idle": "2021-10-11T20:54:46.591166Z",
     "shell.execute_reply": "2021-10-11T20:54:46.590572Z",
     "shell.execute_reply.started": "2021-10-11T20:45:38.180540Z"
    },
    "papermill": {
     "duration": 39.287049,
     "end_time": "2021-10-11T20:54:46.591356",
     "exception": false,
     "start_time": "2021-10-11T20:54:07.304307",
     "status": "completed"
    },
    "tags": []
   },
   "outputs": [],
   "source": [
    "train_data['content'] = train_data['content'].apply(stemming)"
   ]
  },
  {
   "cell_type": "code",
   "execution_count": 16,
   "id": "fe2a2593",
   "metadata": {
    "execution": {
     "iopub.execute_input": "2021-10-11T20:54:46.635374Z",
     "iopub.status.busy": "2021-10-11T20:54:46.634434Z",
     "iopub.status.idle": "2021-10-11T20:54:46.636819Z",
     "shell.execute_reply": "2021-10-11T20:54:46.637297Z",
     "shell.execute_reply.started": "2021-10-11T20:46:18.130906Z"
    },
    "papermill": {
     "duration": 0.027106,
     "end_time": "2021-10-11T20:54:46.637474",
     "exception": false,
     "start_time": "2021-10-11T20:54:46.610368",
     "status": "completed"
    },
    "tags": []
   },
   "outputs": [],
   "source": [
    "#separating the data and label\n",
    "X = train_data['content'].values\n",
    "Y = train_data['label'].values"
   ]
  },
  {
   "cell_type": "code",
   "execution_count": 17,
   "id": "975cc02c",
   "metadata": {
    "execution": {
     "iopub.execute_input": "2021-10-11T20:54:46.691732Z",
     "iopub.status.busy": "2021-10-11T20:54:46.686462Z",
     "iopub.status.idle": "2021-10-11T20:54:47.277155Z",
     "shell.execute_reply": "2021-10-11T20:54:47.276640Z",
     "shell.execute_reply.started": "2021-10-11T20:46:18.139309Z"
    },
    "papermill": {
     "duration": 0.622074,
     "end_time": "2021-10-11T20:54:47.277301",
     "exception": false,
     "start_time": "2021-10-11T20:54:46.655227",
     "status": "completed"
    },
    "tags": []
   },
   "outputs": [],
   "source": [
    "#converting text data to numerical data\n",
    "vectorizer=TfidfVectorizer()\n",
    "vectorizer.fit(X)\n",
    "X=vectorizer.transform(X)"
   ]
  },
  {
   "cell_type": "code",
   "execution_count": 18,
   "id": "9a3869c8",
   "metadata": {
    "execution": {
     "iopub.execute_input": "2021-10-11T20:54:47.317982Z",
     "iopub.status.busy": "2021-10-11T20:54:47.316914Z",
     "iopub.status.idle": "2021-10-11T20:54:47.323925Z",
     "shell.execute_reply": "2021-10-11T20:54:47.323441Z",
     "shell.execute_reply.started": "2021-10-11T20:46:18.746287Z"
    },
    "papermill": {
     "duration": 0.029041,
     "end_time": "2021-10-11T20:54:47.324075",
     "exception": false,
     "start_time": "2021-10-11T20:54:47.295034",
     "status": "completed"
    },
    "tags": []
   },
   "outputs": [
    {
     "name": "stdout",
     "output_type": "stream",
     "text": [
      "  (0, 15686)\t0.28485063562728646\n",
      "  (0, 13473)\t0.2565896679337957\n",
      "  (0, 8909)\t0.3635963806326075\n",
      "  (0, 8630)\t0.29212514087043684\n",
      "  (0, 7692)\t0.24785219520671603\n",
      "  (0, 7005)\t0.21874169089359144\n",
      "  (0, 4973)\t0.233316966909351\n",
      "  (0, 3792)\t0.2705332480845492\n",
      "  (0, 3600)\t0.3598939188262559\n",
      "  (0, 2959)\t0.2468450128533713\n",
      "  (0, 2483)\t0.3676519686797209\n",
      "  (0, 267)\t0.27010124977708766\n",
      "  (1, 16799)\t0.30071745655510157\n",
      "  (1, 6816)\t0.1904660198296849\n",
      "  (1, 5503)\t0.7143299355715573\n",
      "  (1, 3568)\t0.26373768806048464\n",
      "  (1, 2813)\t0.19094574062359204\n",
      "  (1, 2223)\t0.3827320386859759\n",
      "  (1, 1894)\t0.15521974226349364\n",
      "  (1, 1497)\t0.2939891562094648\n",
      "  (2, 15611)\t0.41544962664721613\n",
      "  (2, 9620)\t0.49351492943649944\n",
      "  (2, 5968)\t0.3474613386728292\n",
      "  (2, 5389)\t0.3866530551182615\n",
      "  (2, 3103)\t0.46097489583229645\n",
      "  :\t:\n",
      "  (20797, 13122)\t0.2482526352197606\n",
      "  (20797, 12344)\t0.27263457663336677\n",
      "  (20797, 12138)\t0.24778257724396507\n",
      "  (20797, 10306)\t0.08038079000566466\n",
      "  (20797, 9588)\t0.174553480255222\n",
      "  (20797, 9518)\t0.2954204003420313\n",
      "  (20797, 8988)\t0.36160868928090795\n",
      "  (20797, 8364)\t0.22322585870464118\n",
      "  (20797, 7042)\t0.21799048897828688\n",
      "  (20797, 3643)\t0.21155500613623743\n",
      "  (20797, 1287)\t0.33538056804139865\n",
      "  (20797, 699)\t0.30685846079762347\n",
      "  (20797, 43)\t0.29710241860700626\n",
      "  (20798, 13046)\t0.22363267488270608\n",
      "  (20798, 11052)\t0.4460515589182236\n",
      "  (20798, 10177)\t0.3192496370187028\n",
      "  (20798, 6889)\t0.32496285694299426\n",
      "  (20798, 5032)\t0.4083701450239529\n",
      "  (20798, 1125)\t0.4460515589182236\n",
      "  (20798, 588)\t0.3112141524638974\n",
      "  (20798, 350)\t0.28446937819072576\n",
      "  (20799, 14852)\t0.5677577267055112\n",
      "  (20799, 8036)\t0.45983893273780013\n",
      "  (20799, 3623)\t0.37927626273066584\n",
      "  (20799, 377)\t0.5677577267055112\n"
     ]
    }
   ],
   "source": [
    "print(X)"
   ]
  },
  {
   "cell_type": "markdown",
   "id": "ba1ec4af",
   "metadata": {
    "papermill": {
     "duration": 0.017556,
     "end_time": "2021-10-11T20:54:47.359918",
     "exception": false,
     "start_time": "2021-10-11T20:54:47.342362",
     "status": "completed"
    },
    "tags": []
   },
   "source": [
    "Training Model\n"
   ]
  },
  {
   "cell_type": "code",
   "execution_count": 19,
   "id": "6a17f78b",
   "metadata": {
    "execution": {
     "iopub.execute_input": "2021-10-11T20:54:47.402617Z",
     "iopub.status.busy": "2021-10-11T20:54:47.401592Z",
     "iopub.status.idle": "2021-10-11T20:54:47.822036Z",
     "shell.execute_reply": "2021-10-11T20:54:47.822889Z",
     "shell.execute_reply.started": "2021-10-11T20:46:18.756400Z"
    },
    "papermill": {
     "duration": 0.445451,
     "end_time": "2021-10-11T20:54:47.823339",
     "exception": false,
     "start_time": "2021-10-11T20:54:47.377888",
     "status": "completed"
    },
    "tags": []
   },
   "outputs": [
    {
     "data": {
      "text/plain": [
       "LogisticRegression()"
      ]
     },
     "execution_count": 19,
     "metadata": {},
     "output_type": "execute_result"
    }
   ],
   "source": [
    "model=LogisticRegression()\n",
    "X_train, X_test, Y_train, Y_test = train_test_split(X, Y, test_size = 0.2, stratify=Y, random_state=2)\n",
    "model.fit(X_train,Y_train)\n"
   ]
  },
  {
   "cell_type": "code",
   "execution_count": 20,
   "id": "e66e2186",
   "metadata": {
    "execution": {
     "iopub.execute_input": "2021-10-11T20:54:47.906854Z",
     "iopub.status.busy": "2021-10-11T20:54:47.905920Z",
     "iopub.status.idle": "2021-10-11T20:54:47.910312Z",
     "shell.execute_reply": "2021-10-11T20:54:47.911241Z",
     "shell.execute_reply.started": "2021-10-11T20:46:58.379254Z"
    },
    "papermill": {
     "duration": 0.05126,
     "end_time": "2021-10-11T20:54:47.911493",
     "exception": false,
     "start_time": "2021-10-11T20:54:47.860233",
     "status": "completed"
    },
    "tags": []
   },
   "outputs": [
    {
     "name": "stdout",
     "output_type": "stream",
     "text": [
      "0.9865985576923076\n"
     ]
    }
   ],
   "source": [
    "# accuracy score on the training data\n",
    "X_train_prediction = model.predict(X_train)\n",
    "training_data_accuracy = accuracy_score(X_train_prediction, Y_train)\n",
    "print(training_data_accuracy)"
   ]
  },
  {
   "cell_type": "code",
   "execution_count": 21,
   "id": "b461cb3b",
   "metadata": {
    "execution": {
     "iopub.execute_input": "2021-10-11T20:54:47.965708Z",
     "iopub.status.busy": "2021-10-11T20:54:47.964720Z",
     "iopub.status.idle": "2021-10-11T20:54:47.967926Z",
     "shell.execute_reply": "2021-10-11T20:54:47.968423Z",
     "shell.execute_reply.started": "2021-10-11T20:52:38.548655Z"
    },
    "papermill": {
     "duration": 0.028136,
     "end_time": "2021-10-11T20:54:47.968590",
     "exception": false,
     "start_time": "2021-10-11T20:54:47.940454",
     "status": "completed"
    },
    "tags": []
   },
   "outputs": [
    {
     "name": "stdout",
     "output_type": "stream",
     "text": [
      "Test accuracy score: 0.9790865384615385\n"
     ]
    }
   ],
   "source": [
    "# accuracy score on the testing data\n",
    "X_test_prediction = model.predict(X_test)\n",
    "test_data_accuracy = accuracy_score(X_test_prediction, Y_test)\n",
    "print(\"Test accuracy score:\",test_data_accuracy)"
   ]
  },
  {
   "cell_type": "code",
   "execution_count": null,
   "id": "f171624d",
   "metadata": {
    "papermill": {
     "duration": 0.018505,
     "end_time": "2021-10-11T20:54:48.005621",
     "exception": false,
     "start_time": "2021-10-11T20:54:47.987116",
     "status": "completed"
    },
    "tags": []
   },
   "outputs": [],
   "source": []
  }
 ],
 "metadata": {
  "kernelspec": {
   "display_name": "Python 3",
   "language": "python",
   "name": "python3"
  },
  "language_info": {
   "codemirror_mode": {
    "name": "ipython",
    "version": 3
   },
   "file_extension": ".py",
   "mimetype": "text/x-python",
   "name": "python",
   "nbconvert_exporter": "python",
   "pygments_lexer": "ipython3",
   "version": "3.7.10"
  },
  "papermill": {
   "default_parameters": {},
   "duration": 74.7444,
   "end_time": "2021-10-11T20:54:48.735198",
   "environment_variables": {},
   "exception": null,
   "input_path": "__notebook__.ipynb",
   "output_path": "__notebook__.ipynb",
   "parameters": {},
   "start_time": "2021-10-11T20:53:33.990798",
   "version": "2.3.3"
  }
 },
 "nbformat": 4,
 "nbformat_minor": 5
}
