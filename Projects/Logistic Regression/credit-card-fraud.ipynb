{
 "cells": [
  {
   "cell_type": "code",
   "execution_count": 1,
   "id": "f2793b59",
   "metadata": {
    "_cell_guid": "b1076dfc-b9ad-4769-8c92-a6c4dae69d19",
    "_uuid": "8f2839f25d086af736a60e9eeb907d3b93b6e0e5",
    "execution": {
     "iopub.execute_input": "2021-10-21T22:23:01.466800Z",
     "iopub.status.busy": "2021-10-21T22:23:01.465567Z",
     "iopub.status.idle": "2021-10-21T22:23:01.483911Z",
     "shell.execute_reply": "2021-10-21T22:23:01.484425Z",
     "shell.execute_reply.started": "2021-10-21T21:40:03.407166Z"
    },
    "papermill": {
     "duration": 0.039975,
     "end_time": "2021-10-21T22:23:01.484717",
     "exception": false,
     "start_time": "2021-10-21T22:23:01.444742",
     "status": "completed"
    },
    "tags": []
   },
   "outputs": [
    {
     "name": "stdout",
     "output_type": "stream",
     "text": [
      "/kaggle/input/creditcardfraud/creditcard.csv\n"
     ]
    }
   ],
   "source": [
    "# This Python 3 environment comes with many helpful analytics libraries installed\n",
    "# It is defined by the kaggle/python Docker image: https://github.com/kaggle/docker-python\n",
    "# For example, here's several helpful packages to load\n",
    "\n",
    "import numpy as np # linear algebra\n",
    "import pandas as pd # data processing, CSV file I/O (e.g. pd.read_csv)\n",
    "\n",
    "# Input data files are available in the read-only \"../input/\" directory\n",
    "# For example, running this (by clicking run or pressing Shift+Enter) will list all files under the input directory\n",
    "\n",
    "import os\n",
    "for dirname, _, filenames in os.walk('/kaggle/input'):\n",
    "    for filename in filenames:\n",
    "        print(os.path.join(dirname, filename))\n",
    "\n",
    "# You can write up to 20GB to the current directory (/kaggle/working/) that gets preserved as output when you create a version using \"Save & Run All\" \n",
    "# You can also write temporary files to /kaggle/temp/, but they won't be saved outside of the current session"
   ]
  },
  {
   "cell_type": "code",
   "execution_count": 2,
   "id": "e55c7d2d",
   "metadata": {
    "execution": {
     "iopub.execute_input": "2021-10-21T22:23:01.520734Z",
     "iopub.status.busy": "2021-10-21T22:23:01.520103Z",
     "iopub.status.idle": "2021-10-21T22:23:02.505829Z",
     "shell.execute_reply": "2021-10-21T22:23:02.505307Z",
     "shell.execute_reply.started": "2021-10-21T21:40:13.608005Z"
    },
    "papermill": {
     "duration": 1.00443,
     "end_time": "2021-10-21T22:23:02.506005",
     "exception": false,
     "start_time": "2021-10-21T22:23:01.501575",
     "status": "completed"
    },
    "tags": []
   },
   "outputs": [],
   "source": [
    "import numpy as np\n",
    "import pandas as pd\n",
    "from sklearn.model_selection import train_test_split\n",
    "from sklearn.linear_model import LogisticRegression\n",
    "from sklearn.metrics import accuracy_score"
   ]
  },
  {
   "cell_type": "code",
   "execution_count": 3,
   "id": "b4862648",
   "metadata": {
    "execution": {
     "iopub.execute_input": "2021-10-21T22:23:02.543967Z",
     "iopub.status.busy": "2021-10-21T22:23:02.543272Z",
     "iopub.status.idle": "2021-10-21T22:23:06.105577Z",
     "shell.execute_reply": "2021-10-21T22:23:06.105072Z",
     "shell.execute_reply.started": "2021-10-21T21:40:36.518344Z"
    },
    "papermill": {
     "duration": 3.583111,
     "end_time": "2021-10-21T22:23:06.105730",
     "exception": false,
     "start_time": "2021-10-21T22:23:02.522619",
     "status": "completed"
    },
    "tags": []
   },
   "outputs": [],
   "source": [
    "df=pd.read_csv('/kaggle/input/creditcardfraud/creditcard.csv')\n"
   ]
  },
  {
   "cell_type": "code",
   "execution_count": 4,
   "id": "e957e549",
   "metadata": {
    "execution": {
     "iopub.execute_input": "2021-10-21T22:23:06.153521Z",
     "iopub.status.busy": "2021-10-21T22:23:06.152524Z",
     "iopub.status.idle": "2021-10-21T22:23:06.175168Z",
     "shell.execute_reply": "2021-10-21T22:23:06.175637Z",
     "shell.execute_reply.started": "2021-10-21T21:40:41.627255Z"
    },
    "papermill": {
     "duration": 0.05282,
     "end_time": "2021-10-21T22:23:06.175801",
     "exception": false,
     "start_time": "2021-10-21T22:23:06.122981",
     "status": "completed"
    },
    "tags": []
   },
   "outputs": [
    {
     "data": {
      "text/html": [
       "<div>\n",
       "<style scoped>\n",
       "    .dataframe tbody tr th:only-of-type {\n",
       "        vertical-align: middle;\n",
       "    }\n",
       "\n",
       "    .dataframe tbody tr th {\n",
       "        vertical-align: top;\n",
       "    }\n",
       "\n",
       "    .dataframe thead th {\n",
       "        text-align: right;\n",
       "    }\n",
       "</style>\n",
       "<table border=\"1\" class=\"dataframe\">\n",
       "  <thead>\n",
       "    <tr style=\"text-align: right;\">\n",
       "      <th></th>\n",
       "      <th>Time</th>\n",
       "      <th>V1</th>\n",
       "      <th>V2</th>\n",
       "      <th>V3</th>\n",
       "      <th>V4</th>\n",
       "      <th>V5</th>\n",
       "      <th>V6</th>\n",
       "      <th>V7</th>\n",
       "      <th>V8</th>\n",
       "      <th>V9</th>\n",
       "      <th>...</th>\n",
       "      <th>V21</th>\n",
       "      <th>V22</th>\n",
       "      <th>V23</th>\n",
       "      <th>V24</th>\n",
       "      <th>V25</th>\n",
       "      <th>V26</th>\n",
       "      <th>V27</th>\n",
       "      <th>V28</th>\n",
       "      <th>Amount</th>\n",
       "      <th>Class</th>\n",
       "    </tr>\n",
       "  </thead>\n",
       "  <tbody>\n",
       "    <tr>\n",
       "      <th>0</th>\n",
       "      <td>0.0</td>\n",
       "      <td>-1.359807</td>\n",
       "      <td>-0.072781</td>\n",
       "      <td>2.536347</td>\n",
       "      <td>1.378155</td>\n",
       "      <td>-0.338321</td>\n",
       "      <td>0.462388</td>\n",
       "      <td>0.239599</td>\n",
       "      <td>0.098698</td>\n",
       "      <td>0.363787</td>\n",
       "      <td>...</td>\n",
       "      <td>-0.018307</td>\n",
       "      <td>0.277838</td>\n",
       "      <td>-0.110474</td>\n",
       "      <td>0.066928</td>\n",
       "      <td>0.128539</td>\n",
       "      <td>-0.189115</td>\n",
       "      <td>0.133558</td>\n",
       "      <td>-0.021053</td>\n",
       "      <td>149.62</td>\n",
       "      <td>0</td>\n",
       "    </tr>\n",
       "    <tr>\n",
       "      <th>1</th>\n",
       "      <td>0.0</td>\n",
       "      <td>1.191857</td>\n",
       "      <td>0.266151</td>\n",
       "      <td>0.166480</td>\n",
       "      <td>0.448154</td>\n",
       "      <td>0.060018</td>\n",
       "      <td>-0.082361</td>\n",
       "      <td>-0.078803</td>\n",
       "      <td>0.085102</td>\n",
       "      <td>-0.255425</td>\n",
       "      <td>...</td>\n",
       "      <td>-0.225775</td>\n",
       "      <td>-0.638672</td>\n",
       "      <td>0.101288</td>\n",
       "      <td>-0.339846</td>\n",
       "      <td>0.167170</td>\n",
       "      <td>0.125895</td>\n",
       "      <td>-0.008983</td>\n",
       "      <td>0.014724</td>\n",
       "      <td>2.69</td>\n",
       "      <td>0</td>\n",
       "    </tr>\n",
       "    <tr>\n",
       "      <th>2</th>\n",
       "      <td>1.0</td>\n",
       "      <td>-1.358354</td>\n",
       "      <td>-1.340163</td>\n",
       "      <td>1.773209</td>\n",
       "      <td>0.379780</td>\n",
       "      <td>-0.503198</td>\n",
       "      <td>1.800499</td>\n",
       "      <td>0.791461</td>\n",
       "      <td>0.247676</td>\n",
       "      <td>-1.514654</td>\n",
       "      <td>...</td>\n",
       "      <td>0.247998</td>\n",
       "      <td>0.771679</td>\n",
       "      <td>0.909412</td>\n",
       "      <td>-0.689281</td>\n",
       "      <td>-0.327642</td>\n",
       "      <td>-0.139097</td>\n",
       "      <td>-0.055353</td>\n",
       "      <td>-0.059752</td>\n",
       "      <td>378.66</td>\n",
       "      <td>0</td>\n",
       "    </tr>\n",
       "    <tr>\n",
       "      <th>3</th>\n",
       "      <td>1.0</td>\n",
       "      <td>-0.966272</td>\n",
       "      <td>-0.185226</td>\n",
       "      <td>1.792993</td>\n",
       "      <td>-0.863291</td>\n",
       "      <td>-0.010309</td>\n",
       "      <td>1.247203</td>\n",
       "      <td>0.237609</td>\n",
       "      <td>0.377436</td>\n",
       "      <td>-1.387024</td>\n",
       "      <td>...</td>\n",
       "      <td>-0.108300</td>\n",
       "      <td>0.005274</td>\n",
       "      <td>-0.190321</td>\n",
       "      <td>-1.175575</td>\n",
       "      <td>0.647376</td>\n",
       "      <td>-0.221929</td>\n",
       "      <td>0.062723</td>\n",
       "      <td>0.061458</td>\n",
       "      <td>123.50</td>\n",
       "      <td>0</td>\n",
       "    </tr>\n",
       "    <tr>\n",
       "      <th>4</th>\n",
       "      <td>2.0</td>\n",
       "      <td>-1.158233</td>\n",
       "      <td>0.877737</td>\n",
       "      <td>1.548718</td>\n",
       "      <td>0.403034</td>\n",
       "      <td>-0.407193</td>\n",
       "      <td>0.095921</td>\n",
       "      <td>0.592941</td>\n",
       "      <td>-0.270533</td>\n",
       "      <td>0.817739</td>\n",
       "      <td>...</td>\n",
       "      <td>-0.009431</td>\n",
       "      <td>0.798278</td>\n",
       "      <td>-0.137458</td>\n",
       "      <td>0.141267</td>\n",
       "      <td>-0.206010</td>\n",
       "      <td>0.502292</td>\n",
       "      <td>0.219422</td>\n",
       "      <td>0.215153</td>\n",
       "      <td>69.99</td>\n",
       "      <td>0</td>\n",
       "    </tr>\n",
       "  </tbody>\n",
       "</table>\n",
       "<p>5 rows × 31 columns</p>\n",
       "</div>"
      ],
      "text/plain": [
       "   Time        V1        V2        V3        V4        V5        V6        V7  \\\n",
       "0   0.0 -1.359807 -0.072781  2.536347  1.378155 -0.338321  0.462388  0.239599   \n",
       "1   0.0  1.191857  0.266151  0.166480  0.448154  0.060018 -0.082361 -0.078803   \n",
       "2   1.0 -1.358354 -1.340163  1.773209  0.379780 -0.503198  1.800499  0.791461   \n",
       "3   1.0 -0.966272 -0.185226  1.792993 -0.863291 -0.010309  1.247203  0.237609   \n",
       "4   2.0 -1.158233  0.877737  1.548718  0.403034 -0.407193  0.095921  0.592941   \n",
       "\n",
       "         V8        V9  ...       V21       V22       V23       V24       V25  \\\n",
       "0  0.098698  0.363787  ... -0.018307  0.277838 -0.110474  0.066928  0.128539   \n",
       "1  0.085102 -0.255425  ... -0.225775 -0.638672  0.101288 -0.339846  0.167170   \n",
       "2  0.247676 -1.514654  ...  0.247998  0.771679  0.909412 -0.689281 -0.327642   \n",
       "3  0.377436 -1.387024  ... -0.108300  0.005274 -0.190321 -1.175575  0.647376   \n",
       "4 -0.270533  0.817739  ... -0.009431  0.798278 -0.137458  0.141267 -0.206010   \n",
       "\n",
       "        V26       V27       V28  Amount  Class  \n",
       "0 -0.189115  0.133558 -0.021053  149.62      0  \n",
       "1  0.125895 -0.008983  0.014724    2.69      0  \n",
       "2 -0.139097 -0.055353 -0.059752  378.66      0  \n",
       "3 -0.221929  0.062723  0.061458  123.50      0  \n",
       "4  0.502292  0.219422  0.215153   69.99      0  \n",
       "\n",
       "[5 rows x 31 columns]"
      ]
     },
     "execution_count": 4,
     "metadata": {},
     "output_type": "execute_result"
    }
   ],
   "source": [
    "df.head()"
   ]
  },
  {
   "cell_type": "code",
   "execution_count": 5,
   "id": "1be4db6f",
   "metadata": {
    "execution": {
     "iopub.execute_input": "2021-10-21T22:23:06.217335Z",
     "iopub.status.busy": "2021-10-21T22:23:06.215993Z",
     "iopub.status.idle": "2021-10-21T22:23:06.254946Z",
     "shell.execute_reply": "2021-10-21T22:23:06.254274Z",
     "shell.execute_reply.started": "2021-10-21T21:41:17.427170Z"
    },
    "papermill": {
     "duration": 0.062649,
     "end_time": "2021-10-21T22:23:06.255085",
     "exception": false,
     "start_time": "2021-10-21T22:23:06.192436",
     "status": "completed"
    },
    "tags": []
   },
   "outputs": [
    {
     "name": "stdout",
     "output_type": "stream",
     "text": [
      "<class 'pandas.core.frame.DataFrame'>\n",
      "RangeIndex: 284807 entries, 0 to 284806\n",
      "Data columns (total 31 columns):\n",
      " #   Column  Non-Null Count   Dtype  \n",
      "---  ------  --------------   -----  \n",
      " 0   Time    284807 non-null  float64\n",
      " 1   V1      284807 non-null  float64\n",
      " 2   V2      284807 non-null  float64\n",
      " 3   V3      284807 non-null  float64\n",
      " 4   V4      284807 non-null  float64\n",
      " 5   V5      284807 non-null  float64\n",
      " 6   V6      284807 non-null  float64\n",
      " 7   V7      284807 non-null  float64\n",
      " 8   V8      284807 non-null  float64\n",
      " 9   V9      284807 non-null  float64\n",
      " 10  V10     284807 non-null  float64\n",
      " 11  V11     284807 non-null  float64\n",
      " 12  V12     284807 non-null  float64\n",
      " 13  V13     284807 non-null  float64\n",
      " 14  V14     284807 non-null  float64\n",
      " 15  V15     284807 non-null  float64\n",
      " 16  V16     284807 non-null  float64\n",
      " 17  V17     284807 non-null  float64\n",
      " 18  V18     284807 non-null  float64\n",
      " 19  V19     284807 non-null  float64\n",
      " 20  V20     284807 non-null  float64\n",
      " 21  V21     284807 non-null  float64\n",
      " 22  V22     284807 non-null  float64\n",
      " 23  V23     284807 non-null  float64\n",
      " 24  V24     284807 non-null  float64\n",
      " 25  V25     284807 non-null  float64\n",
      " 26  V26     284807 non-null  float64\n",
      " 27  V27     284807 non-null  float64\n",
      " 28  V28     284807 non-null  float64\n",
      " 29  Amount  284807 non-null  float64\n",
      " 30  Class   284807 non-null  int64  \n",
      "dtypes: float64(30), int64(1)\n",
      "memory usage: 67.4 MB\n"
     ]
    }
   ],
   "source": [
    "df.info()"
   ]
  },
  {
   "cell_type": "code",
   "execution_count": 6,
   "id": "e022884f",
   "metadata": {
    "execution": {
     "iopub.execute_input": "2021-10-21T22:23:06.295118Z",
     "iopub.status.busy": "2021-10-21T22:23:06.291790Z",
     "iopub.status.idle": "2021-10-21T22:23:06.317343Z",
     "shell.execute_reply": "2021-10-21T22:23:06.316655Z",
     "shell.execute_reply.started": "2021-10-21T21:42:04.225037Z"
    },
    "papermill": {
     "duration": 0.045437,
     "end_time": "2021-10-21T22:23:06.317490",
     "exception": false,
     "start_time": "2021-10-21T22:23:06.272053",
     "status": "completed"
    },
    "tags": []
   },
   "outputs": [
    {
     "data": {
      "text/plain": [
       "Time      0\n",
       "V1        0\n",
       "V2        0\n",
       "V3        0\n",
       "V4        0\n",
       "V5        0\n",
       "V6        0\n",
       "V7        0\n",
       "V8        0\n",
       "V9        0\n",
       "V10       0\n",
       "V11       0\n",
       "V12       0\n",
       "V13       0\n",
       "V14       0\n",
       "V15       0\n",
       "V16       0\n",
       "V17       0\n",
       "V18       0\n",
       "V19       0\n",
       "V20       0\n",
       "V21       0\n",
       "V22       0\n",
       "V23       0\n",
       "V24       0\n",
       "V25       0\n",
       "V26       0\n",
       "V27       0\n",
       "V28       0\n",
       "Amount    0\n",
       "Class     0\n",
       "dtype: int64"
      ]
     },
     "execution_count": 6,
     "metadata": {},
     "output_type": "execute_result"
    }
   ],
   "source": [
    "df.isnull().sum()"
   ]
  },
  {
   "cell_type": "code",
   "execution_count": 7,
   "id": "9cd85d26",
   "metadata": {
    "execution": {
     "iopub.execute_input": "2021-10-21T22:23:06.355639Z",
     "iopub.status.busy": "2021-10-21T22:23:06.354699Z",
     "iopub.status.idle": "2021-10-21T22:23:06.362553Z",
     "shell.execute_reply": "2021-10-21T22:23:06.363072Z",
     "shell.execute_reply.started": "2021-10-21T21:42:50.213191Z"
    },
    "papermill": {
     "duration": 0.02876,
     "end_time": "2021-10-21T22:23:06.363237",
     "exception": false,
     "start_time": "2021-10-21T22:23:06.334477",
     "status": "completed"
    },
    "tags": []
   },
   "outputs": [
    {
     "data": {
      "text/plain": [
       "0    284315\n",
       "1       492\n",
       "Name: Class, dtype: int64"
      ]
     },
     "execution_count": 7,
     "metadata": {},
     "output_type": "execute_result"
    }
   ],
   "source": [
    "df['Class'].value_counts()"
   ]
  },
  {
   "cell_type": "markdown",
   "id": "e9582b96",
   "metadata": {
    "papermill": {
     "duration": 0.017428,
     "end_time": "2021-10-21T22:23:06.397999",
     "exception": false,
     "start_time": "2021-10-21T22:23:06.380571",
     "status": "completed"
    },
    "tags": []
   },
   "source": [
    "Unbalanced Dataset"
   ]
  },
  {
   "cell_type": "code",
   "execution_count": 8,
   "id": "de00c5c1",
   "metadata": {
    "execution": {
     "iopub.execute_input": "2021-10-21T22:23:06.438293Z",
     "iopub.status.busy": "2021-10-21T22:23:06.436123Z",
     "iopub.status.idle": "2021-10-21T22:23:06.481349Z",
     "shell.execute_reply": "2021-10-21T22:23:06.480673Z",
     "shell.execute_reply.started": "2021-10-21T21:46:16.041432Z"
    },
    "papermill": {
     "duration": 0.065882,
     "end_time": "2021-10-21T22:23:06.481492",
     "exception": false,
     "start_time": "2021-10-21T22:23:06.415610",
     "status": "completed"
    },
    "tags": []
   },
   "outputs": [],
   "source": [
    "#separating data for analysis\\\n",
    "legit=df[df.Class==0]\n",
    "fraud=df[df.Class==1]"
   ]
  },
  {
   "cell_type": "code",
   "execution_count": 9,
   "id": "6f5d7c2e",
   "metadata": {
    "execution": {
     "iopub.execute_input": "2021-10-21T22:23:06.522794Z",
     "iopub.status.busy": "2021-10-21T22:23:06.521906Z",
     "iopub.status.idle": "2021-10-21T22:23:06.524727Z",
     "shell.execute_reply": "2021-10-21T22:23:06.525213Z",
     "shell.execute_reply.started": "2021-10-21T21:46:26.821429Z"
    },
    "papermill": {
     "duration": 0.026438,
     "end_time": "2021-10-21T22:23:06.525391",
     "exception": false,
     "start_time": "2021-10-21T22:23:06.498953",
     "status": "completed"
    },
    "tags": []
   },
   "outputs": [
    {
     "name": "stdout",
     "output_type": "stream",
     "text": [
      "(284315, 31)\n",
      "(492, 31)\n"
     ]
    }
   ],
   "source": [
    "print(legit.shape)\n",
    "print(fraud.shape)"
   ]
  },
  {
   "cell_type": "code",
   "execution_count": 10,
   "id": "bb69bb3c",
   "metadata": {
    "execution": {
     "iopub.execute_input": "2021-10-21T22:23:06.565958Z",
     "iopub.status.busy": "2021-10-21T22:23:06.564963Z",
     "iopub.status.idle": "2021-10-21T22:23:06.582973Z",
     "shell.execute_reply": "2021-10-21T22:23:06.582369Z",
     "shell.execute_reply.started": "2021-10-21T21:51:02.944679Z"
    },
    "papermill": {
     "duration": 0.040265,
     "end_time": "2021-10-21T22:23:06.583114",
     "exception": false,
     "start_time": "2021-10-21T22:23:06.542849",
     "status": "completed"
    },
    "tags": []
   },
   "outputs": [
    {
     "data": {
      "text/plain": [
       "count    284315.000000\n",
       "mean         88.291022\n",
       "std         250.105092\n",
       "min           0.000000\n",
       "25%           5.650000\n",
       "50%          22.000000\n",
       "75%          77.050000\n",
       "max       25691.160000\n",
       "Name: Amount, dtype: float64"
      ]
     },
     "execution_count": 10,
     "metadata": {},
     "output_type": "execute_result"
    }
   ],
   "source": [
    "legit.Amount.describe()"
   ]
  },
  {
   "cell_type": "code",
   "execution_count": 11,
   "id": "6fc40953",
   "metadata": {
    "execution": {
     "iopub.execute_input": "2021-10-21T22:23:06.627237Z",
     "iopub.status.busy": "2021-10-21T22:23:06.626379Z",
     "iopub.status.idle": "2021-10-21T22:23:06.630390Z",
     "shell.execute_reply": "2021-10-21T22:23:06.629923Z",
     "shell.execute_reply.started": "2021-10-21T21:51:16.792332Z"
    },
    "papermill": {
     "duration": 0.029748,
     "end_time": "2021-10-21T22:23:06.630531",
     "exception": false,
     "start_time": "2021-10-21T22:23:06.600783",
     "status": "completed"
    },
    "tags": []
   },
   "outputs": [
    {
     "data": {
      "text/plain": [
       "count     492.000000\n",
       "mean      122.211321\n",
       "std       256.683288\n",
       "min         0.000000\n",
       "25%         1.000000\n",
       "50%         9.250000\n",
       "75%       105.890000\n",
       "max      2125.870000\n",
       "Name: Amount, dtype: float64"
      ]
     },
     "execution_count": 11,
     "metadata": {},
     "output_type": "execute_result"
    }
   ],
   "source": [
    "fraud.Amount.describe()"
   ]
  },
  {
   "cell_type": "code",
   "execution_count": 12,
   "id": "e7aaed78",
   "metadata": {
    "execution": {
     "iopub.execute_input": "2021-10-21T22:23:06.703393Z",
     "iopub.status.busy": "2021-10-21T22:23:06.702413Z",
     "iopub.status.idle": "2021-10-21T22:23:06.793616Z",
     "shell.execute_reply": "2021-10-21T22:23:06.793102Z",
     "shell.execute_reply.started": "2021-10-21T21:51:56.073202Z"
    },
    "papermill": {
     "duration": 0.145077,
     "end_time": "2021-10-21T22:23:06.793756",
     "exception": false,
     "start_time": "2021-10-21T22:23:06.648679",
     "status": "completed"
    },
    "tags": []
   },
   "outputs": [
    {
     "data": {
      "text/html": [
       "<div>\n",
       "<style scoped>\n",
       "    .dataframe tbody tr th:only-of-type {\n",
       "        vertical-align: middle;\n",
       "    }\n",
       "\n",
       "    .dataframe tbody tr th {\n",
       "        vertical-align: top;\n",
       "    }\n",
       "\n",
       "    .dataframe thead th {\n",
       "        text-align: right;\n",
       "    }\n",
       "</style>\n",
       "<table border=\"1\" class=\"dataframe\">\n",
       "  <thead>\n",
       "    <tr style=\"text-align: right;\">\n",
       "      <th></th>\n",
       "      <th>Time</th>\n",
       "      <th>V1</th>\n",
       "      <th>V2</th>\n",
       "      <th>V3</th>\n",
       "      <th>V4</th>\n",
       "      <th>V5</th>\n",
       "      <th>V6</th>\n",
       "      <th>V7</th>\n",
       "      <th>V8</th>\n",
       "      <th>V9</th>\n",
       "      <th>...</th>\n",
       "      <th>V20</th>\n",
       "      <th>V21</th>\n",
       "      <th>V22</th>\n",
       "      <th>V23</th>\n",
       "      <th>V24</th>\n",
       "      <th>V25</th>\n",
       "      <th>V26</th>\n",
       "      <th>V27</th>\n",
       "      <th>V28</th>\n",
       "      <th>Amount</th>\n",
       "    </tr>\n",
       "    <tr>\n",
       "      <th>Class</th>\n",
       "      <th></th>\n",
       "      <th></th>\n",
       "      <th></th>\n",
       "      <th></th>\n",
       "      <th></th>\n",
       "      <th></th>\n",
       "      <th></th>\n",
       "      <th></th>\n",
       "      <th></th>\n",
       "      <th></th>\n",
       "      <th></th>\n",
       "      <th></th>\n",
       "      <th></th>\n",
       "      <th></th>\n",
       "      <th></th>\n",
       "      <th></th>\n",
       "      <th></th>\n",
       "      <th></th>\n",
       "      <th></th>\n",
       "      <th></th>\n",
       "      <th></th>\n",
       "    </tr>\n",
       "  </thead>\n",
       "  <tbody>\n",
       "    <tr>\n",
       "      <th>0</th>\n",
       "      <td>94838.202258</td>\n",
       "      <td>0.008258</td>\n",
       "      <td>-0.006271</td>\n",
       "      <td>0.012171</td>\n",
       "      <td>-0.007860</td>\n",
       "      <td>0.005453</td>\n",
       "      <td>0.002419</td>\n",
       "      <td>0.009637</td>\n",
       "      <td>-0.000987</td>\n",
       "      <td>0.004467</td>\n",
       "      <td>...</td>\n",
       "      <td>-0.000644</td>\n",
       "      <td>-0.001235</td>\n",
       "      <td>-0.000024</td>\n",
       "      <td>0.000070</td>\n",
       "      <td>0.000182</td>\n",
       "      <td>-0.000072</td>\n",
       "      <td>-0.000089</td>\n",
       "      <td>-0.000295</td>\n",
       "      <td>-0.000131</td>\n",
       "      <td>88.291022</td>\n",
       "    </tr>\n",
       "    <tr>\n",
       "      <th>1</th>\n",
       "      <td>80746.806911</td>\n",
       "      <td>-4.771948</td>\n",
       "      <td>3.623778</td>\n",
       "      <td>-7.033281</td>\n",
       "      <td>4.542029</td>\n",
       "      <td>-3.151225</td>\n",
       "      <td>-1.397737</td>\n",
       "      <td>-5.568731</td>\n",
       "      <td>0.570636</td>\n",
       "      <td>-2.581123</td>\n",
       "      <td>...</td>\n",
       "      <td>0.372319</td>\n",
       "      <td>0.713588</td>\n",
       "      <td>0.014049</td>\n",
       "      <td>-0.040308</td>\n",
       "      <td>-0.105130</td>\n",
       "      <td>0.041449</td>\n",
       "      <td>0.051648</td>\n",
       "      <td>0.170575</td>\n",
       "      <td>0.075667</td>\n",
       "      <td>122.211321</td>\n",
       "    </tr>\n",
       "  </tbody>\n",
       "</table>\n",
       "<p>2 rows × 30 columns</p>\n",
       "</div>"
      ],
      "text/plain": [
       "               Time        V1        V2        V3        V4        V5  \\\n",
       "Class                                                                   \n",
       "0      94838.202258  0.008258 -0.006271  0.012171 -0.007860  0.005453   \n",
       "1      80746.806911 -4.771948  3.623778 -7.033281  4.542029 -3.151225   \n",
       "\n",
       "             V6        V7        V8        V9  ...       V20       V21  \\\n",
       "Class                                          ...                       \n",
       "0      0.002419  0.009637 -0.000987  0.004467  ... -0.000644 -0.001235   \n",
       "1     -1.397737 -5.568731  0.570636 -2.581123  ...  0.372319  0.713588   \n",
       "\n",
       "            V22       V23       V24       V25       V26       V27       V28  \\\n",
       "Class                                                                         \n",
       "0     -0.000024  0.000070  0.000182 -0.000072 -0.000089 -0.000295 -0.000131   \n",
       "1      0.014049 -0.040308 -0.105130  0.041449  0.051648  0.170575  0.075667   \n",
       "\n",
       "           Amount  \n",
       "Class              \n",
       "0       88.291022  \n",
       "1      122.211321  \n",
       "\n",
       "[2 rows x 30 columns]"
      ]
     },
     "execution_count": 12,
     "metadata": {},
     "output_type": "execute_result"
    }
   ],
   "source": [
    "df.groupby('Class').mean()"
   ]
  },
  {
   "cell_type": "markdown",
   "id": "a858774e",
   "metadata": {
    "papermill": {
     "duration": 0.01815,
     "end_time": "2021-10-21T22:23:06.830840",
     "exception": false,
     "start_time": "2021-10-21T22:23:06.812690",
     "status": "completed"
    },
    "tags": []
   },
   "source": [
    "Building Dataset with even distribution "
   ]
  },
  {
   "cell_type": "code",
   "execution_count": 13,
   "id": "b79d253c",
   "metadata": {
    "execution": {
     "iopub.execute_input": "2021-10-21T22:23:06.881447Z",
     "iopub.status.busy": "2021-10-21T22:23:06.880778Z",
     "iopub.status.idle": "2021-10-21T22:23:06.883603Z",
     "shell.execute_reply": "2021-10-21T22:23:06.884057Z",
     "shell.execute_reply.started": "2021-10-21T22:07:44.108215Z"
    },
    "papermill": {
     "duration": 0.03489,
     "end_time": "2021-10-21T22:23:06.884231",
     "exception": false,
     "start_time": "2021-10-21T22:23:06.849341",
     "status": "completed"
    },
    "tags": []
   },
   "outputs": [],
   "source": [
    "legit_data=legit.sample(n=492)"
   ]
  },
  {
   "cell_type": "markdown",
   "id": "2caf7e81",
   "metadata": {
    "papermill": {
     "duration": 0.018377,
     "end_time": "2021-10-21T22:23:06.921040",
     "exception": false,
     "start_time": "2021-10-21T22:23:06.902663",
     "status": "completed"
    },
    "tags": []
   },
   "source": []
  },
  {
   "cell_type": "code",
   "execution_count": 14,
   "id": "19d2bc80",
   "metadata": {
    "execution": {
     "iopub.execute_input": "2021-10-21T22:23:06.963147Z",
     "iopub.status.busy": "2021-10-21T22:23:06.962525Z",
     "iopub.status.idle": "2021-10-21T22:23:06.965404Z",
     "shell.execute_reply": "2021-10-21T22:23:06.964907Z",
     "shell.execute_reply.started": "2021-10-21T22:08:36.535123Z"
    },
    "papermill": {
     "duration": 0.026151,
     "end_time": "2021-10-21T22:23:06.965540",
     "exception": false,
     "start_time": "2021-10-21T22:23:06.939389",
     "status": "completed"
    },
    "tags": []
   },
   "outputs": [],
   "source": [
    "even_df=pd.concat([legit_data,fraud],axis=0)"
   ]
  },
  {
   "cell_type": "code",
   "execution_count": 15,
   "id": "e032809e",
   "metadata": {
    "execution": {
     "iopub.execute_input": "2021-10-21T22:23:07.010467Z",
     "iopub.status.busy": "2021-10-21T22:23:07.009770Z",
     "iopub.status.idle": "2021-10-21T22:23:07.013087Z",
     "shell.execute_reply": "2021-10-21T22:23:07.012505Z",
     "shell.execute_reply.started": "2021-10-21T22:09:17.008273Z"
    },
    "papermill": {
     "duration": 0.028921,
     "end_time": "2021-10-21T22:23:07.013226",
     "exception": false,
     "start_time": "2021-10-21T22:23:06.984305",
     "status": "completed"
    },
    "tags": []
   },
   "outputs": [
    {
     "data": {
      "text/plain": [
       "0    492\n",
       "1    492\n",
       "Name: Class, dtype: int64"
      ]
     },
     "execution_count": 15,
     "metadata": {},
     "output_type": "execute_result"
    }
   ],
   "source": [
    "even_df['Class'].value_counts()"
   ]
  },
  {
   "cell_type": "code",
   "execution_count": 16,
   "id": "59563031",
   "metadata": {
    "execution": {
     "iopub.execute_input": "2021-10-21T22:23:07.056185Z",
     "iopub.status.busy": "2021-10-21T22:23:07.055536Z",
     "iopub.status.idle": "2021-10-21T22:23:07.074028Z",
     "shell.execute_reply": "2021-10-21T22:23:07.074522Z",
     "shell.execute_reply.started": "2021-10-21T22:09:48.549319Z"
    },
    "papermill": {
     "duration": 0.042682,
     "end_time": "2021-10-21T22:23:07.074704",
     "exception": false,
     "start_time": "2021-10-21T22:23:07.032022",
     "status": "completed"
    },
    "tags": []
   },
   "outputs": [
    {
     "data": {
      "text/html": [
       "<div>\n",
       "<style scoped>\n",
       "    .dataframe tbody tr th:only-of-type {\n",
       "        vertical-align: middle;\n",
       "    }\n",
       "\n",
       "    .dataframe tbody tr th {\n",
       "        vertical-align: top;\n",
       "    }\n",
       "\n",
       "    .dataframe thead th {\n",
       "        text-align: right;\n",
       "    }\n",
       "</style>\n",
       "<table border=\"1\" class=\"dataframe\">\n",
       "  <thead>\n",
       "    <tr style=\"text-align: right;\">\n",
       "      <th></th>\n",
       "      <th>Time</th>\n",
       "      <th>V1</th>\n",
       "      <th>V2</th>\n",
       "      <th>V3</th>\n",
       "      <th>V4</th>\n",
       "      <th>V5</th>\n",
       "      <th>V6</th>\n",
       "      <th>V7</th>\n",
       "      <th>V8</th>\n",
       "      <th>V9</th>\n",
       "      <th>...</th>\n",
       "      <th>V20</th>\n",
       "      <th>V21</th>\n",
       "      <th>V22</th>\n",
       "      <th>V23</th>\n",
       "      <th>V24</th>\n",
       "      <th>V25</th>\n",
       "      <th>V26</th>\n",
       "      <th>V27</th>\n",
       "      <th>V28</th>\n",
       "      <th>Amount</th>\n",
       "    </tr>\n",
       "    <tr>\n",
       "      <th>Class</th>\n",
       "      <th></th>\n",
       "      <th></th>\n",
       "      <th></th>\n",
       "      <th></th>\n",
       "      <th></th>\n",
       "      <th></th>\n",
       "      <th></th>\n",
       "      <th></th>\n",
       "      <th></th>\n",
       "      <th></th>\n",
       "      <th></th>\n",
       "      <th></th>\n",
       "      <th></th>\n",
       "      <th></th>\n",
       "      <th></th>\n",
       "      <th></th>\n",
       "      <th></th>\n",
       "      <th></th>\n",
       "      <th></th>\n",
       "      <th></th>\n",
       "      <th></th>\n",
       "    </tr>\n",
       "  </thead>\n",
       "  <tbody>\n",
       "    <tr>\n",
       "      <th>0</th>\n",
       "      <td>92824.660569</td>\n",
       "      <td>-0.116142</td>\n",
       "      <td>-0.025084</td>\n",
       "      <td>0.033774</td>\n",
       "      <td>-0.031652</td>\n",
       "      <td>-0.018195</td>\n",
       "      <td>0.027704</td>\n",
       "      <td>0.181721</td>\n",
       "      <td>-0.037555</td>\n",
       "      <td>0.006897</td>\n",
       "      <td>...</td>\n",
       "      <td>0.032106</td>\n",
       "      <td>0.023572</td>\n",
       "      <td>0.020461</td>\n",
       "      <td>0.049284</td>\n",
       "      <td>-0.014379</td>\n",
       "      <td>-0.005329</td>\n",
       "      <td>-0.029106</td>\n",
       "      <td>-0.023019</td>\n",
       "      <td>-0.014262</td>\n",
       "      <td>115.165732</td>\n",
       "    </tr>\n",
       "    <tr>\n",
       "      <th>1</th>\n",
       "      <td>80746.806911</td>\n",
       "      <td>-4.771948</td>\n",
       "      <td>3.623778</td>\n",
       "      <td>-7.033281</td>\n",
       "      <td>4.542029</td>\n",
       "      <td>-3.151225</td>\n",
       "      <td>-1.397737</td>\n",
       "      <td>-5.568731</td>\n",
       "      <td>0.570636</td>\n",
       "      <td>-2.581123</td>\n",
       "      <td>...</td>\n",
       "      <td>0.372319</td>\n",
       "      <td>0.713588</td>\n",
       "      <td>0.014049</td>\n",
       "      <td>-0.040308</td>\n",
       "      <td>-0.105130</td>\n",
       "      <td>0.041449</td>\n",
       "      <td>0.051648</td>\n",
       "      <td>0.170575</td>\n",
       "      <td>0.075667</td>\n",
       "      <td>122.211321</td>\n",
       "    </tr>\n",
       "  </tbody>\n",
       "</table>\n",
       "<p>2 rows × 30 columns</p>\n",
       "</div>"
      ],
      "text/plain": [
       "               Time        V1        V2        V3        V4        V5  \\\n",
       "Class                                                                   \n",
       "0      92824.660569 -0.116142 -0.025084  0.033774 -0.031652 -0.018195   \n",
       "1      80746.806911 -4.771948  3.623778 -7.033281  4.542029 -3.151225   \n",
       "\n",
       "             V6        V7        V8        V9  ...       V20       V21  \\\n",
       "Class                                          ...                       \n",
       "0      0.027704  0.181721 -0.037555  0.006897  ...  0.032106  0.023572   \n",
       "1     -1.397737 -5.568731  0.570636 -2.581123  ...  0.372319  0.713588   \n",
       "\n",
       "            V22       V23       V24       V25       V26       V27       V28  \\\n",
       "Class                                                                         \n",
       "0      0.020461  0.049284 -0.014379 -0.005329 -0.029106 -0.023019 -0.014262   \n",
       "1      0.014049 -0.040308 -0.105130  0.041449  0.051648  0.170575  0.075667   \n",
       "\n",
       "           Amount  \n",
       "Class              \n",
       "0      115.165732  \n",
       "1      122.211321  \n",
       "\n",
       "[2 rows x 30 columns]"
      ]
     },
     "execution_count": 16,
     "metadata": {},
     "output_type": "execute_result"
    }
   ],
   "source": [
    "even_df.groupby('Class').mean()"
   ]
  },
  {
   "cell_type": "code",
   "execution_count": 17,
   "id": "c06d21c0",
   "metadata": {
    "execution": {
     "iopub.execute_input": "2021-10-21T22:23:07.118381Z",
     "iopub.status.busy": "2021-10-21T22:23:07.117745Z",
     "iopub.status.idle": "2021-10-21T22:23:07.121802Z",
     "shell.execute_reply": "2021-10-21T22:23:07.122265Z",
     "shell.execute_reply.started": "2021-10-21T22:10:49.692597Z"
    },
    "papermill": {
     "duration": 0.028013,
     "end_time": "2021-10-21T22:23:07.122438",
     "exception": false,
     "start_time": "2021-10-21T22:23:07.094425",
     "status": "completed"
    },
    "tags": []
   },
   "outputs": [],
   "source": [
    "X=even_df.drop(columns='Class',axis=1)\n",
    "Y=even_df['Class']"
   ]
  },
  {
   "cell_type": "code",
   "execution_count": 18,
   "id": "39462b0a",
   "metadata": {
    "execution": {
     "iopub.execute_input": "2021-10-21T22:23:07.164127Z",
     "iopub.status.busy": "2021-10-21T22:23:07.163538Z",
     "iopub.status.idle": "2021-10-21T22:23:07.178106Z",
     "shell.execute_reply": "2021-10-21T22:23:07.178814Z",
     "shell.execute_reply.started": "2021-10-21T22:11:07.667874Z"
    },
    "papermill": {
     "duration": 0.036924,
     "end_time": "2021-10-21T22:23:07.179026",
     "exception": false,
     "start_time": "2021-10-21T22:23:07.142102",
     "status": "completed"
    },
    "tags": []
   },
   "outputs": [
    {
     "name": "stdout",
     "output_type": "stream",
     "text": [
      "            Time        V1        V2        V3        V4        V5        V6  \\\n",
      "121518   76222.0 -1.992747 -0.132659  3.165937  2.421421 -0.048186  0.579605   \n",
      "69018    53231.0  1.431925 -1.232907  0.083541 -1.344633 -1.226386 -0.370387   \n",
      "176890  122955.0 -1.011653  0.506371 -1.183808 -0.878689  1.469791  0.832987   \n",
      "97863    66416.0 -0.781893 -0.035576  2.003640 -1.931687 -0.887786 -0.182443   \n",
      "271046  164389.0 -2.194624  2.114843 -0.374824  0.327059  0.981181  0.476936   \n",
      "...          ...       ...       ...       ...       ...       ...       ...   \n",
      "279863  169142.0 -1.927883  1.125653 -4.518331  1.749293 -1.566487 -2.010494   \n",
      "280143  169347.0  1.378559  1.289381 -5.004247  1.411850  0.442581 -1.326536   \n",
      "280149  169351.0 -0.676143  1.126366 -2.213700  0.468308 -1.120541 -0.003346   \n",
      "281144  169966.0 -3.113832  0.585864 -5.399730  1.817092 -0.840618 -2.943548   \n",
      "281674  170348.0  1.991976  0.158476 -2.583441  0.408670  1.151147 -0.096695   \n",
      "\n",
      "              V7        V8        V9  ...       V20       V21       V22  \\\n",
      "121518  0.146659 -0.238070  0.901070  ... -0.592483 -0.142356  0.573262   \n",
      "69018  -0.844707 -0.181486 -1.611006  ... -0.169209 -0.398326 -0.809211   \n",
      "176890  1.388113 -0.356622  0.925914  ... -0.371751  0.125589  1.266575   \n",
      "97863  -0.339601  0.171494 -0.873817  ... -0.057374  0.499026  1.156499   \n",
      "271046  0.497427  0.715950 -1.920353  ... -0.299870  0.015938 -0.469399   \n",
      "...          ...       ...       ...  ...       ...       ...       ...   \n",
      "279863 -0.882850  0.697211 -2.064945  ...  1.252967  0.778584 -0.319189   \n",
      "280143 -1.413170  0.248525 -1.127396  ...  0.226138  0.370612  0.028234   \n",
      "280149 -2.234739  1.210158 -0.652250  ...  0.247968  0.751826  0.834108   \n",
      "281144 -2.208002  1.058733 -1.632333  ...  0.306271  0.583276 -0.269209   \n",
      "281674  0.223050 -0.068384  0.577829  ... -0.017652 -0.164350 -0.295135   \n",
      "\n",
      "             V23       V24       V25       V26       V27       V28  Amount  \n",
      "121518 -0.055974  0.399913  0.479209  0.176331 -0.820078 -0.171971   26.15  \n",
      "69018  -0.080123 -0.478115  0.456857 -0.255673  0.022616  0.024405   82.00  \n",
      "176890 -0.081731 -1.718803 -0.427165 -0.199160 -0.439787 -0.105228  109.79  \n",
      "97863  -0.288484  0.002862  0.024548 -0.216511 -0.174246  0.109514   29.99  \n",
      "271046 -0.446263 -0.020161  0.539236  2.256508 -1.751490 -0.630695    0.00  \n",
      "...          ...       ...       ...       ...       ...       ...     ...  \n",
      "279863  0.639419 -0.294885  0.537503  0.788395  0.292680  0.147968  390.00  \n",
      "280143 -0.145640 -0.081049  0.521875  0.739467  0.389152  0.186637    0.76  \n",
      "280149  0.190944  0.032070 -0.739695  0.471111  0.385107  0.194361   77.89  \n",
      "281144 -0.456108 -0.183659 -0.328168  0.606116  0.884876 -0.253700  245.00  \n",
      "281674 -0.072173 -0.450261  0.313267 -0.289617  0.002988 -0.015309   42.53  \n",
      "\n",
      "[984 rows x 30 columns]\n"
     ]
    }
   ],
   "source": [
    "print(X)"
   ]
  },
  {
   "cell_type": "code",
   "execution_count": 19,
   "id": "90afbc96",
   "metadata": {
    "execution": {
     "iopub.execute_input": "2021-10-21T22:23:07.223530Z",
     "iopub.status.busy": "2021-10-21T22:23:07.222915Z",
     "iopub.status.idle": "2021-10-21T22:23:07.225809Z",
     "shell.execute_reply": "2021-10-21T22:23:07.225158Z",
     "shell.execute_reply.started": "2021-10-21T22:11:17.197152Z"
    },
    "papermill": {
     "duration": 0.027434,
     "end_time": "2021-10-21T22:23:07.225995",
     "exception": false,
     "start_time": "2021-10-21T22:23:07.198561",
     "status": "completed"
    },
    "tags": []
   },
   "outputs": [
    {
     "name": "stdout",
     "output_type": "stream",
     "text": [
      "121518    0\n",
      "69018     0\n",
      "176890    0\n",
      "97863     0\n",
      "271046    0\n",
      "         ..\n",
      "279863    1\n",
      "280143    1\n",
      "280149    1\n",
      "281144    1\n",
      "281674    1\n",
      "Name: Class, Length: 984, dtype: int64\n"
     ]
    }
   ],
   "source": [
    "print(Y)"
   ]
  },
  {
   "cell_type": "code",
   "execution_count": 20,
   "id": "79842b92",
   "metadata": {
    "execution": {
     "iopub.execute_input": "2021-10-21T22:23:07.271012Z",
     "iopub.status.busy": "2021-10-21T22:23:07.270348Z",
     "iopub.status.idle": "2021-10-21T22:23:07.275727Z",
     "shell.execute_reply": "2021-10-21T22:23:07.276305Z",
     "shell.execute_reply.started": "2021-10-21T22:12:01.980443Z"
    },
    "papermill": {
     "duration": 0.03043,
     "end_time": "2021-10-21T22:23:07.276470",
     "exception": false,
     "start_time": "2021-10-21T22:23:07.246040",
     "status": "completed"
    },
    "tags": []
   },
   "outputs": [],
   "source": [
    "X_train, X_test, Y_train, Y_test = train_test_split(X, Y, test_size=0.2, stratify=Y, random_state=4)"
   ]
  },
  {
   "cell_type": "code",
   "execution_count": 21,
   "id": "47002c85",
   "metadata": {
    "execution": {
     "iopub.execute_input": "2021-10-21T22:23:07.321640Z",
     "iopub.status.busy": "2021-10-21T22:23:07.321025Z",
     "iopub.status.idle": "2021-10-21T22:23:07.323694Z",
     "shell.execute_reply": "2021-10-21T22:23:07.324223Z",
     "shell.execute_reply.started": "2021-10-21T22:12:19.560870Z"
    },
    "papermill": {
     "duration": 0.027932,
     "end_time": "2021-10-21T22:23:07.324390",
     "exception": false,
     "start_time": "2021-10-21T22:23:07.296458",
     "status": "completed"
    },
    "tags": []
   },
   "outputs": [
    {
     "name": "stdout",
     "output_type": "stream",
     "text": [
      "(984, 30) (787, 30) (197, 30)\n"
     ]
    }
   ],
   "source": [
    "print(X.shape, X_train.shape, X_test.shape)\n"
   ]
  },
  {
   "cell_type": "code",
   "execution_count": 22,
   "id": "fd7c5413",
   "metadata": {
    "execution": {
     "iopub.execute_input": "2021-10-21T22:23:07.369477Z",
     "iopub.status.busy": "2021-10-21T22:23:07.368804Z",
     "iopub.status.idle": "2021-10-21T22:23:07.370430Z",
     "shell.execute_reply": "2021-10-21T22:23:07.370907Z",
     "shell.execute_reply.started": "2021-10-21T22:12:49.740682Z"
    },
    "papermill": {
     "duration": 0.02649,
     "end_time": "2021-10-21T22:23:07.371076",
     "exception": false,
     "start_time": "2021-10-21T22:23:07.344586",
     "status": "completed"
    },
    "tags": []
   },
   "outputs": [],
   "source": [
    "model = LogisticRegression()"
   ]
  },
  {
   "cell_type": "code",
   "execution_count": 23,
   "id": "17c7a3d1",
   "metadata": {
    "execution": {
     "iopub.execute_input": "2021-10-21T22:23:07.415033Z",
     "iopub.status.busy": "2021-10-21T22:23:07.414085Z",
     "iopub.status.idle": "2021-10-21T22:23:07.457814Z",
     "shell.execute_reply": "2021-10-21T22:23:07.458656Z",
     "shell.execute_reply.started": "2021-10-21T22:15:12.651968Z"
    },
    "papermill": {
     "duration": 0.067811,
     "end_time": "2021-10-21T22:23:07.458960",
     "exception": false,
     "start_time": "2021-10-21T22:23:07.391149",
     "status": "completed"
    },
    "tags": []
   },
   "outputs": [
    {
     "data": {
      "text/plain": [
       "LogisticRegression()"
      ]
     },
     "execution_count": 23,
     "metadata": {},
     "output_type": "execute_result"
    }
   ],
   "source": [
    "model.fit(X_train,Y_train)"
   ]
  },
  {
   "cell_type": "code",
   "execution_count": null,
   "id": "42d9e828",
   "metadata": {
    "papermill": {
     "duration": 0.040845,
     "end_time": "2021-10-21T22:23:07.540297",
     "exception": false,
     "start_time": "2021-10-21T22:23:07.499452",
     "status": "completed"
    },
    "tags": []
   },
   "outputs": [],
   "source": []
  }
 ],
 "metadata": {
  "kernelspec": {
   "display_name": "Python 3",
   "language": "python",
   "name": "python3"
  },
  "language_info": {
   "codemirror_mode": {
    "name": "ipython",
    "version": 3
   },
   "file_extension": ".py",
   "mimetype": "text/x-python",
   "name": "python",
   "nbconvert_exporter": "python",
   "pygments_lexer": "ipython3",
   "version": "3.7.10"
  },
  "papermill": {
   "default_parameters": {},
   "duration": 14.715248,
   "end_time": "2021-10-21T22:23:08.184431",
   "environment_variables": {},
   "exception": null,
   "input_path": "__notebook__.ipynb",
   "output_path": "__notebook__.ipynb",
   "parameters": {},
   "start_time": "2021-10-21T22:22:53.469183",
   "version": "2.3.3"
  }
 },
 "nbformat": 4,
 "nbformat_minor": 5
}
