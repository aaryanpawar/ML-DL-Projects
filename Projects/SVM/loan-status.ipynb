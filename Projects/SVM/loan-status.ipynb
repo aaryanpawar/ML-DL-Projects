{
 "cells": [
  {
   "cell_type": "code",
   "execution_count": 1,
   "id": "c19a99de",
   "metadata": {
    "_cell_guid": "b1076dfc-b9ad-4769-8c92-a6c4dae69d19",
    "_uuid": "8f2839f25d086af736a60e9eeb907d3b93b6e0e5",
    "execution": {
     "iopub.execute_input": "2021-10-15T18:47:48.243621Z",
     "iopub.status.busy": "2021-10-15T18:47:48.242826Z",
     "iopub.status.idle": "2021-10-15T18:47:48.256120Z",
     "shell.execute_reply": "2021-10-15T18:47:48.255356Z",
     "shell.execute_reply.started": "2021-10-15T18:39:00.350634Z"
    },
    "papermill": {
     "duration": 0.060458,
     "end_time": "2021-10-15T18:47:48.256305",
     "exception": false,
     "start_time": "2021-10-15T18:47:48.195847",
     "status": "completed"
    },
    "tags": []
   },
   "outputs": [
    {
     "name": "stdout",
     "output_type": "stream",
     "text": [
      "/kaggle/input/loan-predication/train_u6lujuX_CVtuZ9i (1).csv\n"
     ]
    }
   ],
   "source": [
    "# This Python 3 environment comes with many helpful analytics libraries installed\n",
    "# It is defined by the kaggle/python Docker image: https://github.com/kaggle/docker-python\n",
    "# For example, here's several helpful packages to load\n",
    "\n",
    "import numpy as np # linear algebra\n",
    "import pandas as pd # data processing, CSV file I/O (e.g. pd.read_csv)\n",
    "\n",
    "# Input data files are available in the read-only \"../input/\" directory\n",
    "# For example, running this (by clicking run or pressing Shift+Enter) will list all files under the input directory\n",
    "\n",
    "import os\n",
    "for dirname, _, filenames in os.walk('/kaggle/input'):\n",
    "    for filename in filenames:\n",
    "        print(os.path.join(dirname, filename))\n",
    "\n",
    "# You can write up to 20GB to the current directory (/kaggle/working/) that gets preserved as output when you create a version using \"Save & Run All\" \n",
    "# You can also write temporary files to /kaggle/temp/, but they won't be saved outside of the current session"
   ]
  },
  {
   "cell_type": "markdown",
   "id": "117e6ca9",
   "metadata": {
    "papermill": {
     "duration": 0.03163,
     "end_time": "2021-10-15T18:47:48.320598",
     "exception": false,
     "start_time": "2021-10-15T18:47:48.288968",
     "status": "completed"
    },
    "tags": []
   },
   "source": [
    "Importing Dependencies"
   ]
  },
  {
   "cell_type": "code",
   "execution_count": 2,
   "id": "2fd39666",
   "metadata": {
    "execution": {
     "iopub.execute_input": "2021-10-15T18:47:48.416941Z",
     "iopub.status.busy": "2021-10-15T18:47:48.415810Z",
     "iopub.status.idle": "2021-10-15T18:47:49.743071Z",
     "shell.execute_reply": "2021-10-15T18:47:49.742429Z",
     "shell.execute_reply.started": "2021-10-15T18:39:04.781705Z"
    },
    "papermill": {
     "duration": 1.380088,
     "end_time": "2021-10-15T18:47:49.743227",
     "exception": false,
     "start_time": "2021-10-15T18:47:48.363139",
     "status": "completed"
    },
    "tags": []
   },
   "outputs": [],
   "source": [
    "import numpy as np\n",
    "import pandas as pd\n",
    "import seaborn as sns\n",
    "from sklearn.model_selection import train_test_split\n",
    "from sklearn import svm\n",
    "from sklearn.metrics import accuracy_score"
   ]
  },
  {
   "cell_type": "markdown",
   "id": "e74fba1e",
   "metadata": {
    "papermill": {
     "duration": 0.031149,
     "end_time": "2021-10-15T18:47:49.806113",
     "exception": false,
     "start_time": "2021-10-15T18:47:49.774964",
     "status": "completed"
    },
    "tags": []
   },
   "source": [
    "Data collection"
   ]
  },
  {
   "cell_type": "code",
   "execution_count": 3,
   "id": "b3107a63",
   "metadata": {
    "execution": {
     "iopub.execute_input": "2021-10-15T18:47:49.875016Z",
     "iopub.status.busy": "2021-10-15T18:47:49.874288Z",
     "iopub.status.idle": "2021-10-15T18:47:49.892765Z",
     "shell.execute_reply": "2021-10-15T18:47:49.892193Z",
     "shell.execute_reply.started": "2021-10-15T18:39:08.138598Z"
    },
    "papermill": {
     "duration": 0.055296,
     "end_time": "2021-10-15T18:47:49.892904",
     "exception": false,
     "start_time": "2021-10-15T18:47:49.837608",
     "status": "completed"
    },
    "tags": []
   },
   "outputs": [],
   "source": [
    "df=pd.read_csv('/kaggle/input/loan-predication/train_u6lujuX_CVtuZ9i (1).csv')"
   ]
  },
  {
   "cell_type": "code",
   "execution_count": 4,
   "id": "1c495102",
   "metadata": {
    "execution": {
     "iopub.execute_input": "2021-10-15T18:47:49.965047Z",
     "iopub.status.busy": "2021-10-15T18:47:49.964343Z",
     "iopub.status.idle": "2021-10-15T18:47:49.986187Z",
     "shell.execute_reply": "2021-10-15T18:47:49.985534Z",
     "shell.execute_reply.started": "2021-10-15T18:39:15.078544Z"
    },
    "papermill": {
     "duration": 0.061541,
     "end_time": "2021-10-15T18:47:49.986325",
     "exception": false,
     "start_time": "2021-10-15T18:47:49.924784",
     "status": "completed"
    },
    "tags": []
   },
   "outputs": [
    {
     "data": {
      "text/html": [
       "<div>\n",
       "<style scoped>\n",
       "    .dataframe tbody tr th:only-of-type {\n",
       "        vertical-align: middle;\n",
       "    }\n",
       "\n",
       "    .dataframe tbody tr th {\n",
       "        vertical-align: top;\n",
       "    }\n",
       "\n",
       "    .dataframe thead th {\n",
       "        text-align: right;\n",
       "    }\n",
       "</style>\n",
       "<table border=\"1\" class=\"dataframe\">\n",
       "  <thead>\n",
       "    <tr style=\"text-align: right;\">\n",
       "      <th></th>\n",
       "      <th>Loan_ID</th>\n",
       "      <th>Gender</th>\n",
       "      <th>Married</th>\n",
       "      <th>Dependents</th>\n",
       "      <th>Education</th>\n",
       "      <th>Self_Employed</th>\n",
       "      <th>ApplicantIncome</th>\n",
       "      <th>CoapplicantIncome</th>\n",
       "      <th>LoanAmount</th>\n",
       "      <th>Loan_Amount_Term</th>\n",
       "      <th>Credit_History</th>\n",
       "      <th>Property_Area</th>\n",
       "      <th>Loan_Status</th>\n",
       "    </tr>\n",
       "  </thead>\n",
       "  <tbody>\n",
       "    <tr>\n",
       "      <th>0</th>\n",
       "      <td>LP001002</td>\n",
       "      <td>Male</td>\n",
       "      <td>No</td>\n",
       "      <td>0</td>\n",
       "      <td>Graduate</td>\n",
       "      <td>No</td>\n",
       "      <td>5849</td>\n",
       "      <td>0.0</td>\n",
       "      <td>NaN</td>\n",
       "      <td>360.0</td>\n",
       "      <td>1.0</td>\n",
       "      <td>Urban</td>\n",
       "      <td>Y</td>\n",
       "    </tr>\n",
       "    <tr>\n",
       "      <th>1</th>\n",
       "      <td>LP001003</td>\n",
       "      <td>Male</td>\n",
       "      <td>Yes</td>\n",
       "      <td>1</td>\n",
       "      <td>Graduate</td>\n",
       "      <td>No</td>\n",
       "      <td>4583</td>\n",
       "      <td>1508.0</td>\n",
       "      <td>128.0</td>\n",
       "      <td>360.0</td>\n",
       "      <td>1.0</td>\n",
       "      <td>Rural</td>\n",
       "      <td>N</td>\n",
       "    </tr>\n",
       "    <tr>\n",
       "      <th>2</th>\n",
       "      <td>LP001005</td>\n",
       "      <td>Male</td>\n",
       "      <td>Yes</td>\n",
       "      <td>0</td>\n",
       "      <td>Graduate</td>\n",
       "      <td>Yes</td>\n",
       "      <td>3000</td>\n",
       "      <td>0.0</td>\n",
       "      <td>66.0</td>\n",
       "      <td>360.0</td>\n",
       "      <td>1.0</td>\n",
       "      <td>Urban</td>\n",
       "      <td>Y</td>\n",
       "    </tr>\n",
       "    <tr>\n",
       "      <th>3</th>\n",
       "      <td>LP001006</td>\n",
       "      <td>Male</td>\n",
       "      <td>Yes</td>\n",
       "      <td>0</td>\n",
       "      <td>Not Graduate</td>\n",
       "      <td>No</td>\n",
       "      <td>2583</td>\n",
       "      <td>2358.0</td>\n",
       "      <td>120.0</td>\n",
       "      <td>360.0</td>\n",
       "      <td>1.0</td>\n",
       "      <td>Urban</td>\n",
       "      <td>Y</td>\n",
       "    </tr>\n",
       "    <tr>\n",
       "      <th>4</th>\n",
       "      <td>LP001008</td>\n",
       "      <td>Male</td>\n",
       "      <td>No</td>\n",
       "      <td>0</td>\n",
       "      <td>Graduate</td>\n",
       "      <td>No</td>\n",
       "      <td>6000</td>\n",
       "      <td>0.0</td>\n",
       "      <td>141.0</td>\n",
       "      <td>360.0</td>\n",
       "      <td>1.0</td>\n",
       "      <td>Urban</td>\n",
       "      <td>Y</td>\n",
       "    </tr>\n",
       "  </tbody>\n",
       "</table>\n",
       "</div>"
      ],
      "text/plain": [
       "    Loan_ID Gender Married Dependents     Education Self_Employed  \\\n",
       "0  LP001002   Male      No          0      Graduate            No   \n",
       "1  LP001003   Male     Yes          1      Graduate            No   \n",
       "2  LP001005   Male     Yes          0      Graduate           Yes   \n",
       "3  LP001006   Male     Yes          0  Not Graduate            No   \n",
       "4  LP001008   Male      No          0      Graduate            No   \n",
       "\n",
       "   ApplicantIncome  CoapplicantIncome  LoanAmount  Loan_Amount_Term  \\\n",
       "0             5849                0.0         NaN             360.0   \n",
       "1             4583             1508.0       128.0             360.0   \n",
       "2             3000                0.0        66.0             360.0   \n",
       "3             2583             2358.0       120.0             360.0   \n",
       "4             6000                0.0       141.0             360.0   \n",
       "\n",
       "   Credit_History Property_Area Loan_Status  \n",
       "0             1.0         Urban           Y  \n",
       "1             1.0         Rural           N  \n",
       "2             1.0         Urban           Y  \n",
       "3             1.0         Urban           Y  \n",
       "4             1.0         Urban           Y  "
      ]
     },
     "execution_count": 4,
     "metadata": {},
     "output_type": "execute_result"
    }
   ],
   "source": [
    "df.head()"
   ]
  },
  {
   "cell_type": "code",
   "execution_count": 5,
   "id": "7f105ac5",
   "metadata": {
    "execution": {
     "iopub.execute_input": "2021-10-15T18:47:50.056786Z",
     "iopub.status.busy": "2021-10-15T18:47:50.053633Z",
     "iopub.status.idle": "2021-10-15T18:47:50.060704Z",
     "shell.execute_reply": "2021-10-15T18:47:50.060073Z",
     "shell.execute_reply.started": "2021-10-15T18:39:18.849863Z"
    },
    "papermill": {
     "duration": 0.042397,
     "end_time": "2021-10-15T18:47:50.060841",
     "exception": false,
     "start_time": "2021-10-15T18:47:50.018444",
     "status": "completed"
    },
    "tags": []
   },
   "outputs": [
    {
     "data": {
      "text/plain": [
       "(614, 13)"
      ]
     },
     "execution_count": 5,
     "metadata": {},
     "output_type": "execute_result"
    }
   ],
   "source": [
    "df.shape"
   ]
  },
  {
   "cell_type": "markdown",
   "id": "4446c174",
   "metadata": {
    "_kg_hide-input": true,
    "papermill": {
     "duration": 0.032078,
     "end_time": "2021-10-15T18:47:50.125399",
     "exception": false,
     "start_time": "2021-10-15T18:47:50.093321",
     "status": "completed"
    },
    "tags": []
   },
   "source": []
  },
  {
   "cell_type": "markdown",
   "id": "a2499bf1",
   "metadata": {
    "papermill": {
     "duration": 0.031933,
     "end_time": "2021-10-15T18:47:50.189620",
     "exception": false,
     "start_time": "2021-10-15T18:47:50.157687",
     "status": "completed"
    },
    "tags": []
   },
   "source": []
  },
  {
   "cell_type": "code",
   "execution_count": 6,
   "id": "48e02037",
   "metadata": {
    "execution": {
     "iopub.execute_input": "2021-10-15T18:47:50.273442Z",
     "iopub.status.busy": "2021-10-15T18:47:50.272599Z",
     "iopub.status.idle": "2021-10-15T18:47:50.294771Z",
     "shell.execute_reply": "2021-10-15T18:47:50.295396Z",
     "shell.execute_reply.started": "2021-10-15T18:39:22.889696Z"
    },
    "papermill": {
     "duration": 0.073675,
     "end_time": "2021-10-15T18:47:50.295581",
     "exception": false,
     "start_time": "2021-10-15T18:47:50.221906",
     "status": "completed"
    },
    "tags": []
   },
   "outputs": [
    {
     "data": {
      "text/html": [
       "<div>\n",
       "<style scoped>\n",
       "    .dataframe tbody tr th:only-of-type {\n",
       "        vertical-align: middle;\n",
       "    }\n",
       "\n",
       "    .dataframe tbody tr th {\n",
       "        vertical-align: top;\n",
       "    }\n",
       "\n",
       "    .dataframe thead th {\n",
       "        text-align: right;\n",
       "    }\n",
       "</style>\n",
       "<table border=\"1\" class=\"dataframe\">\n",
       "  <thead>\n",
       "    <tr style=\"text-align: right;\">\n",
       "      <th></th>\n",
       "      <th>ApplicantIncome</th>\n",
       "      <th>CoapplicantIncome</th>\n",
       "      <th>LoanAmount</th>\n",
       "      <th>Loan_Amount_Term</th>\n",
       "      <th>Credit_History</th>\n",
       "    </tr>\n",
       "  </thead>\n",
       "  <tbody>\n",
       "    <tr>\n",
       "      <th>count</th>\n",
       "      <td>614.000000</td>\n",
       "      <td>614.000000</td>\n",
       "      <td>592.000000</td>\n",
       "      <td>600.00000</td>\n",
       "      <td>564.000000</td>\n",
       "    </tr>\n",
       "    <tr>\n",
       "      <th>mean</th>\n",
       "      <td>5403.459283</td>\n",
       "      <td>1621.245798</td>\n",
       "      <td>146.412162</td>\n",
       "      <td>342.00000</td>\n",
       "      <td>0.842199</td>\n",
       "    </tr>\n",
       "    <tr>\n",
       "      <th>std</th>\n",
       "      <td>6109.041673</td>\n",
       "      <td>2926.248369</td>\n",
       "      <td>85.587325</td>\n",
       "      <td>65.12041</td>\n",
       "      <td>0.364878</td>\n",
       "    </tr>\n",
       "    <tr>\n",
       "      <th>min</th>\n",
       "      <td>150.000000</td>\n",
       "      <td>0.000000</td>\n",
       "      <td>9.000000</td>\n",
       "      <td>12.00000</td>\n",
       "      <td>0.000000</td>\n",
       "    </tr>\n",
       "    <tr>\n",
       "      <th>25%</th>\n",
       "      <td>2877.500000</td>\n",
       "      <td>0.000000</td>\n",
       "      <td>100.000000</td>\n",
       "      <td>360.00000</td>\n",
       "      <td>1.000000</td>\n",
       "    </tr>\n",
       "    <tr>\n",
       "      <th>50%</th>\n",
       "      <td>3812.500000</td>\n",
       "      <td>1188.500000</td>\n",
       "      <td>128.000000</td>\n",
       "      <td>360.00000</td>\n",
       "      <td>1.000000</td>\n",
       "    </tr>\n",
       "    <tr>\n",
       "      <th>75%</th>\n",
       "      <td>5795.000000</td>\n",
       "      <td>2297.250000</td>\n",
       "      <td>168.000000</td>\n",
       "      <td>360.00000</td>\n",
       "      <td>1.000000</td>\n",
       "    </tr>\n",
       "    <tr>\n",
       "      <th>max</th>\n",
       "      <td>81000.000000</td>\n",
       "      <td>41667.000000</td>\n",
       "      <td>700.000000</td>\n",
       "      <td>480.00000</td>\n",
       "      <td>1.000000</td>\n",
       "    </tr>\n",
       "  </tbody>\n",
       "</table>\n",
       "</div>"
      ],
      "text/plain": [
       "       ApplicantIncome  CoapplicantIncome  LoanAmount  Loan_Amount_Term  \\\n",
       "count       614.000000         614.000000  592.000000         600.00000   \n",
       "mean       5403.459283        1621.245798  146.412162         342.00000   \n",
       "std        6109.041673        2926.248369   85.587325          65.12041   \n",
       "min         150.000000           0.000000    9.000000          12.00000   \n",
       "25%        2877.500000           0.000000  100.000000         360.00000   \n",
       "50%        3812.500000        1188.500000  128.000000         360.00000   \n",
       "75%        5795.000000        2297.250000  168.000000         360.00000   \n",
       "max       81000.000000       41667.000000  700.000000         480.00000   \n",
       "\n",
       "       Credit_History  \n",
       "count      564.000000  \n",
       "mean         0.842199  \n",
       "std          0.364878  \n",
       "min          0.000000  \n",
       "25%          1.000000  \n",
       "50%          1.000000  \n",
       "75%          1.000000  \n",
       "max          1.000000  "
      ]
     },
     "execution_count": 6,
     "metadata": {},
     "output_type": "execute_result"
    }
   ],
   "source": [
    "df.describe()"
   ]
  },
  {
   "cell_type": "markdown",
   "id": "211c58cf",
   "metadata": {
    "papermill": {
     "duration": 0.032456,
     "end_time": "2021-10-15T18:47:50.360930",
     "exception": false,
     "start_time": "2021-10-15T18:47:50.328474",
     "status": "completed"
    },
    "tags": []
   },
   "source": []
  },
  {
   "cell_type": "code",
   "execution_count": 7,
   "id": "1b50eac9",
   "metadata": {
    "execution": {
     "iopub.execute_input": "2021-10-15T18:47:50.430656Z",
     "iopub.status.busy": "2021-10-15T18:47:50.429689Z",
     "iopub.status.idle": "2021-10-15T18:47:50.438526Z",
     "shell.execute_reply": "2021-10-15T18:47:50.439164Z",
     "shell.execute_reply.started": "2021-10-15T18:39:26.624936Z"
    },
    "papermill": {
     "duration": 0.045408,
     "end_time": "2021-10-15T18:47:50.439336",
     "exception": false,
     "start_time": "2021-10-15T18:47:50.393928",
     "status": "completed"
    },
    "tags": []
   },
   "outputs": [
    {
     "data": {
      "text/plain": [
       "Loan_ID               0\n",
       "Gender               13\n",
       "Married               3\n",
       "Dependents           15\n",
       "Education             0\n",
       "Self_Employed        32\n",
       "ApplicantIncome       0\n",
       "CoapplicantIncome     0\n",
       "LoanAmount           22\n",
       "Loan_Amount_Term     14\n",
       "Credit_History       50\n",
       "Property_Area         0\n",
       "Loan_Status           0\n",
       "dtype: int64"
      ]
     },
     "execution_count": 7,
     "metadata": {},
     "output_type": "execute_result"
    }
   ],
   "source": [
    "df.isnull().sum()"
   ]
  },
  {
   "cell_type": "code",
   "execution_count": 8,
   "id": "ec5dbe8b",
   "metadata": {
    "execution": {
     "iopub.execute_input": "2021-10-15T18:47:50.510101Z",
     "iopub.status.busy": "2021-10-15T18:47:50.509107Z",
     "iopub.status.idle": "2021-10-15T18:47:50.515768Z",
     "shell.execute_reply": "2021-10-15T18:47:50.516428Z",
     "shell.execute_reply.started": "2021-10-15T18:39:36.026330Z"
    },
    "papermill": {
     "duration": 0.043618,
     "end_time": "2021-10-15T18:47:50.516660",
     "exception": false,
     "start_time": "2021-10-15T18:47:50.473042",
     "status": "completed"
    },
    "tags": []
   },
   "outputs": [],
   "source": [
    "df=df.dropna()"
   ]
  },
  {
   "cell_type": "code",
   "execution_count": 9,
   "id": "0be16991",
   "metadata": {
    "execution": {
     "iopub.execute_input": "2021-10-15T18:47:50.586491Z",
     "iopub.status.busy": "2021-10-15T18:47:50.585448Z",
     "iopub.status.idle": "2021-10-15T18:47:50.594620Z",
     "shell.execute_reply": "2021-10-15T18:47:50.594055Z",
     "shell.execute_reply.started": "2021-10-15T18:39:38.521316Z"
    },
    "papermill": {
     "duration": 0.045333,
     "end_time": "2021-10-15T18:47:50.594763",
     "exception": false,
     "start_time": "2021-10-15T18:47:50.549430",
     "status": "completed"
    },
    "tags": []
   },
   "outputs": [
    {
     "data": {
      "text/plain": [
       "Loan_ID              0\n",
       "Gender               0\n",
       "Married              0\n",
       "Dependents           0\n",
       "Education            0\n",
       "Self_Employed        0\n",
       "ApplicantIncome      0\n",
       "CoapplicantIncome    0\n",
       "LoanAmount           0\n",
       "Loan_Amount_Term     0\n",
       "Credit_History       0\n",
       "Property_Area        0\n",
       "Loan_Status          0\n",
       "dtype: int64"
      ]
     },
     "execution_count": 9,
     "metadata": {},
     "output_type": "execute_result"
    }
   ],
   "source": [
    "df.isnull().sum()"
   ]
  },
  {
   "cell_type": "code",
   "execution_count": 10,
   "id": "248b02a4",
   "metadata": {
    "execution": {
     "iopub.execute_input": "2021-10-15T18:47:50.669756Z",
     "iopub.status.busy": "2021-10-15T18:47:50.669113Z",
     "iopub.status.idle": "2021-10-15T18:47:50.673860Z",
     "shell.execute_reply": "2021-10-15T18:47:50.673307Z",
     "shell.execute_reply.started": "2021-10-15T18:39:42.621734Z"
    },
    "papermill": {
     "duration": 0.045756,
     "end_time": "2021-10-15T18:47:50.674023",
     "exception": false,
     "start_time": "2021-10-15T18:47:50.628267",
     "status": "completed"
    },
    "tags": []
   },
   "outputs": [],
   "source": [
    "# label encoding\n",
    "df.replace({'Loan_Status':{'N':0,'Y':1}},inplace=True)"
   ]
  },
  {
   "cell_type": "code",
   "execution_count": 11,
   "id": "51aa2bae",
   "metadata": {
    "execution": {
     "iopub.execute_input": "2021-10-15T18:47:50.755744Z",
     "iopub.status.busy": "2021-10-15T18:47:50.755038Z",
     "iopub.status.idle": "2021-10-15T18:47:50.758252Z",
     "shell.execute_reply": "2021-10-15T18:47:50.757703Z",
     "shell.execute_reply.started": "2021-10-15T18:39:47.793852Z"
    },
    "papermill": {
     "duration": 0.050679,
     "end_time": "2021-10-15T18:47:50.758395",
     "exception": false,
     "start_time": "2021-10-15T18:47:50.707716",
     "status": "completed"
    },
    "tags": []
   },
   "outputs": [],
   "source": [
    "# convert categorical columns to numerical values\n",
    "df.replace({'Married':{'No':0,'Yes':1},'Gender':{'Male':1,'Female':0},'Self_Employed':{'No':0,'Yes':1},\n",
    "                      'Property_Area':{'Rural':0,'Semiurban':1,'Urban':2},'Education':{'Graduate':1,'Not Graduate':0}},inplace=True)"
   ]
  },
  {
   "cell_type": "code",
   "execution_count": 12,
   "id": "f02f5f77",
   "metadata": {
    "execution": {
     "iopub.execute_input": "2021-10-15T18:47:50.843249Z",
     "iopub.status.busy": "2021-10-15T18:47:50.842041Z",
     "iopub.status.idle": "2021-10-15T18:47:50.845979Z",
     "shell.execute_reply": "2021-10-15T18:47:50.846499Z",
     "shell.execute_reply.started": "2021-10-15T18:39:49.568170Z"
    },
    "papermill": {
     "duration": 0.054318,
     "end_time": "2021-10-15T18:47:50.846672",
     "exception": false,
     "start_time": "2021-10-15T18:47:50.792354",
     "status": "completed"
    },
    "tags": []
   },
   "outputs": [
    {
     "data": {
      "text/html": [
       "<div>\n",
       "<style scoped>\n",
       "    .dataframe tbody tr th:only-of-type {\n",
       "        vertical-align: middle;\n",
       "    }\n",
       "\n",
       "    .dataframe tbody tr th {\n",
       "        vertical-align: top;\n",
       "    }\n",
       "\n",
       "    .dataframe thead th {\n",
       "        text-align: right;\n",
       "    }\n",
       "</style>\n",
       "<table border=\"1\" class=\"dataframe\">\n",
       "  <thead>\n",
       "    <tr style=\"text-align: right;\">\n",
       "      <th></th>\n",
       "      <th>Loan_ID</th>\n",
       "      <th>Gender</th>\n",
       "      <th>Married</th>\n",
       "      <th>Dependents</th>\n",
       "      <th>Education</th>\n",
       "      <th>Self_Employed</th>\n",
       "      <th>ApplicantIncome</th>\n",
       "      <th>CoapplicantIncome</th>\n",
       "      <th>LoanAmount</th>\n",
       "      <th>Loan_Amount_Term</th>\n",
       "      <th>Credit_History</th>\n",
       "      <th>Property_Area</th>\n",
       "      <th>Loan_Status</th>\n",
       "    </tr>\n",
       "  </thead>\n",
       "  <tbody>\n",
       "    <tr>\n",
       "      <th>1</th>\n",
       "      <td>LP001003</td>\n",
       "      <td>1</td>\n",
       "      <td>1</td>\n",
       "      <td>1</td>\n",
       "      <td>1</td>\n",
       "      <td>0</td>\n",
       "      <td>4583</td>\n",
       "      <td>1508.0</td>\n",
       "      <td>128.0</td>\n",
       "      <td>360.0</td>\n",
       "      <td>1.0</td>\n",
       "      <td>0</td>\n",
       "      <td>0</td>\n",
       "    </tr>\n",
       "    <tr>\n",
       "      <th>2</th>\n",
       "      <td>LP001005</td>\n",
       "      <td>1</td>\n",
       "      <td>1</td>\n",
       "      <td>0</td>\n",
       "      <td>1</td>\n",
       "      <td>1</td>\n",
       "      <td>3000</td>\n",
       "      <td>0.0</td>\n",
       "      <td>66.0</td>\n",
       "      <td>360.0</td>\n",
       "      <td>1.0</td>\n",
       "      <td>2</td>\n",
       "      <td>1</td>\n",
       "    </tr>\n",
       "    <tr>\n",
       "      <th>3</th>\n",
       "      <td>LP001006</td>\n",
       "      <td>1</td>\n",
       "      <td>1</td>\n",
       "      <td>0</td>\n",
       "      <td>0</td>\n",
       "      <td>0</td>\n",
       "      <td>2583</td>\n",
       "      <td>2358.0</td>\n",
       "      <td>120.0</td>\n",
       "      <td>360.0</td>\n",
       "      <td>1.0</td>\n",
       "      <td>2</td>\n",
       "      <td>1</td>\n",
       "    </tr>\n",
       "    <tr>\n",
       "      <th>4</th>\n",
       "      <td>LP001008</td>\n",
       "      <td>1</td>\n",
       "      <td>0</td>\n",
       "      <td>0</td>\n",
       "      <td>1</td>\n",
       "      <td>0</td>\n",
       "      <td>6000</td>\n",
       "      <td>0.0</td>\n",
       "      <td>141.0</td>\n",
       "      <td>360.0</td>\n",
       "      <td>1.0</td>\n",
       "      <td>2</td>\n",
       "      <td>1</td>\n",
       "    </tr>\n",
       "    <tr>\n",
       "      <th>5</th>\n",
       "      <td>LP001011</td>\n",
       "      <td>1</td>\n",
       "      <td>1</td>\n",
       "      <td>2</td>\n",
       "      <td>1</td>\n",
       "      <td>1</td>\n",
       "      <td>5417</td>\n",
       "      <td>4196.0</td>\n",
       "      <td>267.0</td>\n",
       "      <td>360.0</td>\n",
       "      <td>1.0</td>\n",
       "      <td>2</td>\n",
       "      <td>1</td>\n",
       "    </tr>\n",
       "  </tbody>\n",
       "</table>\n",
       "</div>"
      ],
      "text/plain": [
       "    Loan_ID  Gender  Married Dependents  Education  Self_Employed  \\\n",
       "1  LP001003       1        1          1          1              0   \n",
       "2  LP001005       1        1          0          1              1   \n",
       "3  LP001006       1        1          0          0              0   \n",
       "4  LP001008       1        0          0          1              0   \n",
       "5  LP001011       1        1          2          1              1   \n",
       "\n",
       "   ApplicantIncome  CoapplicantIncome  LoanAmount  Loan_Amount_Term  \\\n",
       "1             4583             1508.0       128.0             360.0   \n",
       "2             3000                0.0        66.0             360.0   \n",
       "3             2583             2358.0       120.0             360.0   \n",
       "4             6000                0.0       141.0             360.0   \n",
       "5             5417             4196.0       267.0             360.0   \n",
       "\n",
       "   Credit_History  Property_Area  Loan_Status  \n",
       "1             1.0              0            0  \n",
       "2             1.0              2            1  \n",
       "3             1.0              2            1  \n",
       "4             1.0              2            1  \n",
       "5             1.0              2            1  "
      ]
     },
     "execution_count": 12,
     "metadata": {},
     "output_type": "execute_result"
    }
   ],
   "source": [
    "df.head()"
   ]
  },
  {
   "cell_type": "code",
   "execution_count": 13,
   "id": "a4c33fd8",
   "metadata": {
    "execution": {
     "iopub.execute_input": "2021-10-15T18:47:50.924096Z",
     "iopub.status.busy": "2021-10-15T18:47:50.923225Z",
     "iopub.status.idle": "2021-10-15T18:47:50.927227Z",
     "shell.execute_reply": "2021-10-15T18:47:50.926685Z",
     "shell.execute_reply.started": "2021-10-15T18:39:53.816315Z"
    },
    "papermill": {
     "duration": 0.045838,
     "end_time": "2021-10-15T18:47:50.927366",
     "exception": false,
     "start_time": "2021-10-15T18:47:50.881528",
     "status": "completed"
    },
    "tags": []
   },
   "outputs": [
    {
     "data": {
      "text/plain": [
       "0     274\n",
       "2      85\n",
       "1      80\n",
       "3+     41\n",
       "Name: Dependents, dtype: int64"
      ]
     },
     "execution_count": 13,
     "metadata": {},
     "output_type": "execute_result"
    }
   ],
   "source": [
    "# dependent values\n",
    "df['Dependents'].value_counts()"
   ]
  },
  {
   "cell_type": "code",
   "execution_count": 14,
   "id": "9d760474",
   "metadata": {
    "execution": {
     "iopub.execute_input": "2021-10-15T18:47:50.999469Z",
     "iopub.status.busy": "2021-10-15T18:47:50.998806Z",
     "iopub.status.idle": "2021-10-15T18:47:51.003314Z",
     "shell.execute_reply": "2021-10-15T18:47:51.003842Z",
     "shell.execute_reply.started": "2021-10-15T18:39:57.928720Z"
    },
    "papermill": {
     "duration": 0.042264,
     "end_time": "2021-10-15T18:47:51.004029",
     "exception": false,
     "start_time": "2021-10-15T18:47:50.961765",
     "status": "completed"
    },
    "tags": []
   },
   "outputs": [],
   "source": [
    "# replacing the value of 3+ to 4\n",
    "df =df.replace(to_replace='3+', value=4)"
   ]
  },
  {
   "cell_type": "code",
   "execution_count": 15,
   "id": "d5e18a6b",
   "metadata": {
    "execution": {
     "iopub.execute_input": "2021-10-15T18:47:51.078023Z",
     "iopub.status.busy": "2021-10-15T18:47:51.077342Z",
     "iopub.status.idle": "2021-10-15T18:47:51.083401Z",
     "shell.execute_reply": "2021-10-15T18:47:51.083927Z",
     "shell.execute_reply.started": "2021-10-15T18:39:59.637622Z"
    },
    "papermill": {
     "duration": 0.044921,
     "end_time": "2021-10-15T18:47:51.084115",
     "exception": false,
     "start_time": "2021-10-15T18:47:51.039194",
     "status": "completed"
    },
    "tags": []
   },
   "outputs": [
    {
     "data": {
      "text/plain": [
       "0    274\n",
       "2     85\n",
       "1     80\n",
       "4     41\n",
       "Name: Dependents, dtype: int64"
      ]
     },
     "execution_count": 15,
     "metadata": {},
     "output_type": "execute_result"
    }
   ],
   "source": [
    "# dependent values\n",
    "df['Dependents'].value_counts()"
   ]
  },
  {
   "cell_type": "code",
   "execution_count": 16,
   "id": "41f46b1e",
   "metadata": {
    "execution": {
     "iopub.execute_input": "2021-10-15T18:47:51.156561Z",
     "iopub.status.busy": "2021-10-15T18:47:51.155921Z",
     "iopub.status.idle": "2021-10-15T18:47:51.354982Z",
     "shell.execute_reply": "2021-10-15T18:47:51.354413Z",
     "shell.execute_reply.started": "2021-10-15T18:40:04.521371Z"
    },
    "papermill": {
     "duration": 0.236359,
     "end_time": "2021-10-15T18:47:51.355140",
     "exception": false,
     "start_time": "2021-10-15T18:47:51.118781",
     "status": "completed"
    },
    "tags": []
   },
   "outputs": [
    {
     "data": {
      "text/plain": [
       "<AxesSubplot:xlabel='Married', ylabel='count'>"
      ]
     },
     "execution_count": 16,
     "metadata": {},
     "output_type": "execute_result"
    },
    {
     "data": {
      "image/png": "[encoded data removed]",
      "text/plain": [
       "<Figure size 432x288 with 1 Axes>"
      ]
     },
     "metadata": {
      "needs_background": "light"
     },
     "output_type": "display_data"
    }
   ],
   "source": [
    "\n",
    "# marital status & Loan Status\n",
    "sns.countplot(x='Married',hue='Loan_Status',data=df)\n"
   ]
  },
  {
   "cell_type": "code",
   "execution_count": 17,
   "id": "4f27f8b0",
   "metadata": {
    "execution": {
     "iopub.execute_input": "2021-10-15T18:47:51.473228Z",
     "iopub.status.busy": "2021-10-15T18:47:51.472494Z",
     "iopub.status.idle": "2021-10-15T18:47:51.650549Z",
     "shell.execute_reply": "2021-10-15T18:47:51.650032Z",
     "shell.execute_reply.started": "2021-10-15T18:40:09.305032Z"
    },
    "papermill": {
     "duration": 0.25973,
     "end_time": "2021-10-15T18:47:51.650691",
     "exception": false,
     "start_time": "2021-10-15T18:47:51.390961",
     "status": "completed"
    },
    "tags": []
   },
   "outputs": [
    {
     "data": {
      "text/plain": [
       "<AxesSubplot:xlabel='Education', ylabel='count'>"
      ]
     },
     "execution_count": 17,
     "metadata": {},
     "output_type": "execute_result"
    },
    {
     "data": {
      "image/png": "[encoded data removed]",
      "text/plain": [
       "<Figure size 432x288 with 1 Axes>"
      ]
     },
     "metadata": {
      "needs_background": "light"
     },
     "output_type": "display_data"
    }
   ],
   "source": [
    "# education & Loan Status\n",
    "sns.countplot(x='Education',hue='Loan_Status',data=df)"
   ]
  },
  {
   "cell_type": "code",
   "execution_count": 18,
   "id": "501ce811",
   "metadata": {
    "execution": {
     "iopub.execute_input": "2021-10-15T18:47:51.734531Z",
     "iopub.status.busy": "2021-10-15T18:47:51.733499Z",
     "iopub.status.idle": "2021-10-15T18:47:51.735651Z",
     "shell.execute_reply": "2021-10-15T18:47:51.736188Z",
     "shell.execute_reply.started": "2021-10-15T18:40:14.295319Z"
    },
    "papermill": {
     "duration": 0.04784,
     "end_time": "2021-10-15T18:47:51.736361",
     "exception": false,
     "start_time": "2021-10-15T18:47:51.688521",
     "status": "completed"
    },
    "tags": []
   },
   "outputs": [],
   "source": [
    "# separating the data and label\n",
    "X = df.drop(columns=['Loan_Status'],axis=1)\n",
    "Y = df['Loan_Status']"
   ]
  },
  {
   "cell_type": "code",
   "execution_count": 19,
   "id": "06bb00a2",
   "metadata": {
    "execution": {
     "iopub.execute_input": "2021-10-15T18:47:51.829144Z",
     "iopub.status.busy": "2021-10-15T18:47:51.828289Z",
     "iopub.status.idle": "2021-10-15T18:47:51.832245Z",
     "shell.execute_reply": "2021-10-15T18:47:51.831687Z",
     "shell.execute_reply.started": "2021-10-15T18:40:16.121464Z"
    },
    "papermill": {
     "duration": 0.057522,
     "end_time": "2021-10-15T18:47:51.832388",
     "exception": false,
     "start_time": "2021-10-15T18:47:51.774866",
     "status": "completed"
    },
    "tags": []
   },
   "outputs": [
    {
     "name": "stdout",
     "output_type": "stream",
     "text": [
      "      Loan_ID  Gender  Married Dependents  Education  Self_Employed  \\\n",
      "1    LP001003       1        1          1          1              0   \n",
      "2    LP001005       1        1          0          1              1   \n",
      "3    LP001006       1        1          0          0              0   \n",
      "4    LP001008       1        0          0          1              0   \n",
      "5    LP001011       1        1          2          1              1   \n",
      "..        ...     ...      ...        ...        ...            ...   \n",
      "609  LP002978       0        0          0          1              0   \n",
      "610  LP002979       1        1          4          1              0   \n",
      "611  LP002983       1        1          1          1              0   \n",
      "612  LP002984       1        1          2          1              0   \n",
      "613  LP002990       0        0          0          1              1   \n",
      "\n",
      "     ApplicantIncome  CoapplicantIncome  LoanAmount  Loan_Amount_Term  \\\n",
      "1               4583             1508.0       128.0             360.0   \n",
      "2               3000                0.0        66.0             360.0   \n",
      "3               2583             2358.0       120.0             360.0   \n",
      "4               6000                0.0       141.0             360.0   \n",
      "5               5417             4196.0       267.0             360.0   \n",
      "..               ...                ...         ...               ...   \n",
      "609             2900                0.0        71.0             360.0   \n",
      "610             4106                0.0        40.0             180.0   \n",
      "611             8072              240.0       253.0             360.0   \n",
      "612             7583                0.0       187.0             360.0   \n",
      "613             4583                0.0       133.0             360.0   \n",
      "\n",
      "     Credit_History  Property_Area  \n",
      "1               1.0              0  \n",
      "2               1.0              2  \n",
      "3               1.0              2  \n",
      "4               1.0              2  \n",
      "5               1.0              2  \n",
      "..              ...            ...  \n",
      "609             1.0              0  \n",
      "610             1.0              0  \n",
      "611             1.0              2  \n",
      "612             1.0              2  \n",
      "613             0.0              1  \n",
      "\n",
      "[480 rows x 12 columns]\n"
     ]
    }
   ],
   "source": [
    "print(X)"
   ]
  },
  {
   "cell_type": "code",
   "execution_count": 20,
   "id": "270d8bb8",
   "metadata": {
    "execution": {
     "iopub.execute_input": "2021-10-15T18:47:51.911264Z",
     "iopub.status.busy": "2021-10-15T18:47:51.910603Z",
     "iopub.status.idle": "2021-10-15T18:47:51.917040Z",
     "shell.execute_reply": "2021-10-15T18:47:51.916154Z",
     "shell.execute_reply.started": "2021-10-15T18:40:21.061045Z"
    },
    "papermill": {
     "duration": 0.046592,
     "end_time": "2021-10-15T18:47:51.917231",
     "exception": false,
     "start_time": "2021-10-15T18:47:51.870639",
     "status": "completed"
    },
    "tags": []
   },
   "outputs": [
    {
     "name": "stdout",
     "output_type": "stream",
     "text": [
      "1      0\n",
      "2      1\n",
      "3      1\n",
      "4      1\n",
      "5      1\n",
      "      ..\n",
      "609    1\n",
      "610    1\n",
      "611    1\n",
      "612    1\n",
      "613    0\n",
      "Name: Loan_Status, Length: 480, dtype: int64\n"
     ]
    }
   ],
   "source": [
    "print(Y)"
   ]
  },
  {
   "cell_type": "markdown",
   "id": "f9445ed9",
   "metadata": {
    "papermill": {
     "duration": 0.037933,
     "end_time": "2021-10-15T18:47:51.993680",
     "exception": false,
     "start_time": "2021-10-15T18:47:51.955747",
     "status": "completed"
    },
    "tags": []
   },
   "source": [
    "Train Test Split"
   ]
  },
  {
   "cell_type": "code",
   "execution_count": 21,
   "id": "e16abff1",
   "metadata": {
    "execution": {
     "iopub.execute_input": "2021-10-15T18:47:52.078589Z",
     "iopub.status.busy": "2021-10-15T18:47:52.077873Z",
     "iopub.status.idle": "2021-10-15T18:47:52.086335Z",
     "shell.execute_reply": "2021-10-15T18:47:52.086888Z",
     "shell.execute_reply.started": "2021-10-15T18:40:25.803906Z"
    },
    "papermill": {
     "duration": 0.055122,
     "end_time": "2021-10-15T18:47:52.087083",
     "exception": false,
     "start_time": "2021-10-15T18:47:52.031961",
     "status": "completed"
    },
    "tags": []
   },
   "outputs": [],
   "source": [
    "X_train, X_test,Y_train,Y_test = train_test_split(X,Y,test_size=0.1,stratify=Y,random_state=2)"
   ]
  },
  {
   "cell_type": "code",
   "execution_count": 22,
   "id": "5b260cc2",
   "metadata": {
    "execution": {
     "iopub.execute_input": "2021-10-15T18:47:52.170369Z",
     "iopub.status.busy": "2021-10-15T18:47:52.169446Z",
     "iopub.status.idle": "2021-10-15T18:47:52.172968Z",
     "shell.execute_reply": "2021-10-15T18:47:52.173559Z",
     "shell.execute_reply.started": "2021-10-15T18:40:28.108100Z"
    },
    "papermill": {
     "duration": 0.048341,
     "end_time": "2021-10-15T18:47:52.173732",
     "exception": false,
     "start_time": "2021-10-15T18:47:52.125391",
     "status": "completed"
    },
    "tags": []
   },
   "outputs": [
    {
     "name": "stdout",
     "output_type": "stream",
     "text": [
      "368    LP002190\n",
      "74     LP001253\n",
      "135    LP001488\n",
      "53     LP001179\n",
      "96     LP001327\n",
      "388    LP002244\n",
      "345    LP002129\n",
      "8      LP001018\n",
      "549    LP002777\n",
      "99     LP001343\n",
      "49     LP001151\n",
      "513    LP002648\n",
      "43     LP001131\n",
      "92     LP001319\n",
      "555    LP002792\n",
      "609    LP002978\n",
      "221    LP001743\n",
      "454    LP002453\n",
      "607    LP002964\n",
      "179    LP001630\n",
      "277    LP001904\n",
      "488    LP002555\n",
      "150    LP001528\n",
      "585    LP002912\n",
      "168    LP001579\n",
      "267    LP001882\n",
      "543    LP002755\n",
      "520    LP002689\n",
      "22     LP001047\n",
      "69     LP001241\n",
      "91     LP001318\n",
      "250    LP001835\n",
      "416    LP002341\n",
      "154    LP001535\n",
      "415    LP002337\n",
      "291    LP001938\n",
      "253    LP001843\n",
      "97     LP001333\n",
      "393    LP002265\n",
      "399    LP002287\n",
      "537    LP002738\n",
      "15     LP001032\n",
      "469    LP002505\n",
      "371    LP002197\n",
      "300    LP001964\n",
      "189    LP001647\n",
      "224    LP001750\n",
      "201    LP001677\n",
      "Name: Loan_ID, dtype: object\n"
     ]
    }
   ],
   "source": [
    "Loan_id=X_test['Loan_ID']\n",
    "print(Loan_id)"
   ]
  },
  {
   "cell_type": "markdown",
   "id": "18e3cbec",
   "metadata": {
    "papermill": {
     "duration": 0.037791,
     "end_time": "2021-10-15T18:47:52.249365",
     "exception": false,
     "start_time": "2021-10-15T18:47:52.211574",
     "status": "completed"
    },
    "tags": []
   },
   "source": [
    "Training Model using SVM\n"
   ]
  },
  {
   "cell_type": "code",
   "execution_count": 23,
   "id": "4ac52ede",
   "metadata": {
    "execution": {
     "iopub.execute_input": "2021-10-15T18:47:52.393084Z",
     "iopub.status.busy": "2021-10-15T18:47:52.392131Z",
     "iopub.status.idle": "2021-10-15T18:47:52.395152Z",
     "shell.execute_reply": "2021-10-15T18:47:52.394538Z",
     "shell.execute_reply.started": "2021-10-15T18:40:35.688925Z"
    },
    "papermill": {
     "duration": 0.046179,
     "end_time": "2021-10-15T18:47:52.395290",
     "exception": false,
     "start_time": "2021-10-15T18:47:52.349111",
     "status": "completed"
    },
    "tags": []
   },
   "outputs": [],
   "source": [
    "classifier=svm.SVC(kernel='linear')"
   ]
  },
  {
   "cell_type": "code",
   "execution_count": 24,
   "id": "2baa5c81",
   "metadata": {
    "execution": {
     "iopub.execute_input": "2021-10-15T18:47:52.478765Z",
     "iopub.status.busy": "2021-10-15T18:47:52.477885Z",
     "iopub.status.idle": "2021-10-15T18:47:52.480891Z",
     "shell.execute_reply": "2021-10-15T18:47:52.480357Z",
     "shell.execute_reply.started": "2021-10-15T18:41:02.885457Z"
    },
    "papermill": {
     "duration": 0.046901,
     "end_time": "2021-10-15T18:47:52.481053",
     "exception": false,
     "start_time": "2021-10-15T18:47:52.434152",
     "status": "completed"
    },
    "tags": []
   },
   "outputs": [],
   "source": [
    "X_train=X_train.drop(columns=['Loan_ID'],axis=1)\n"
   ]
  },
  {
   "cell_type": "code",
   "execution_count": 25,
   "id": "7e4176b1",
   "metadata": {
    "execution": {
     "iopub.execute_input": "2021-10-15T18:47:52.573526Z",
     "iopub.status.busy": "2021-10-15T18:47:52.567148Z",
     "iopub.status.idle": "2021-10-15T18:47:52.577652Z",
     "shell.execute_reply": "2021-10-15T18:47:52.576963Z",
     "shell.execute_reply.started": "2021-10-15T18:41:05.364452Z"
    },
    "papermill": {
     "duration": 0.058009,
     "end_time": "2021-10-15T18:47:52.577797",
     "exception": false,
     "start_time": "2021-10-15T18:47:52.519788",
     "status": "completed"
    },
    "tags": []
   },
   "outputs": [
    {
     "data": {
      "text/html": [
       "<div>\n",
       "<style scoped>\n",
       "    .dataframe tbody tr th:only-of-type {\n",
       "        vertical-align: middle;\n",
       "    }\n",
       "\n",
       "    .dataframe tbody tr th {\n",
       "        vertical-align: top;\n",
       "    }\n",
       "\n",
       "    .dataframe thead th {\n",
       "        text-align: right;\n",
       "    }\n",
       "</style>\n",
       "<table border=\"1\" class=\"dataframe\">\n",
       "  <thead>\n",
       "    <tr style=\"text-align: right;\">\n",
       "      <th></th>\n",
       "      <th>Gender</th>\n",
       "      <th>Married</th>\n",
       "      <th>Dependents</th>\n",
       "      <th>Education</th>\n",
       "      <th>Self_Employed</th>\n",
       "      <th>ApplicantIncome</th>\n",
       "      <th>CoapplicantIncome</th>\n",
       "      <th>LoanAmount</th>\n",
       "      <th>Loan_Amount_Term</th>\n",
       "      <th>Credit_History</th>\n",
       "      <th>Property_Area</th>\n",
       "    </tr>\n",
       "  </thead>\n",
       "  <tbody>\n",
       "    <tr>\n",
       "      <th>122</th>\n",
       "      <td>0</td>\n",
       "      <td>0</td>\n",
       "      <td>0</td>\n",
       "      <td>1</td>\n",
       "      <td>0</td>\n",
       "      <td>2137</td>\n",
       "      <td>8980.0</td>\n",
       "      <td>137.0</td>\n",
       "      <td>360.0</td>\n",
       "      <td>0.0</td>\n",
       "      <td>1</td>\n",
       "    </tr>\n",
       "    <tr>\n",
       "      <th>498</th>\n",
       "      <td>1</td>\n",
       "      <td>1</td>\n",
       "      <td>1</td>\n",
       "      <td>1</td>\n",
       "      <td>1</td>\n",
       "      <td>2895</td>\n",
       "      <td>0.0</td>\n",
       "      <td>95.0</td>\n",
       "      <td>360.0</td>\n",
       "      <td>1.0</td>\n",
       "      <td>1</td>\n",
       "    </tr>\n",
       "    <tr>\n",
       "      <th>144</th>\n",
       "      <td>1</td>\n",
       "      <td>1</td>\n",
       "      <td>2</td>\n",
       "      <td>1</td>\n",
       "      <td>0</td>\n",
       "      <td>11757</td>\n",
       "      <td>0.0</td>\n",
       "      <td>187.0</td>\n",
       "      <td>180.0</td>\n",
       "      <td>1.0</td>\n",
       "      <td>2</td>\n",
       "    </tr>\n",
       "    <tr>\n",
       "      <th>217</th>\n",
       "      <td>1</td>\n",
       "      <td>1</td>\n",
       "      <td>0</td>\n",
       "      <td>1</td>\n",
       "      <td>0</td>\n",
       "      <td>3727</td>\n",
       "      <td>1775.0</td>\n",
       "      <td>131.0</td>\n",
       "      <td>360.0</td>\n",
       "      <td>1.0</td>\n",
       "      <td>1</td>\n",
       "    </tr>\n",
       "    <tr>\n",
       "      <th>362</th>\n",
       "      <td>1</td>\n",
       "      <td>1</td>\n",
       "      <td>0</td>\n",
       "      <td>1</td>\n",
       "      <td>0</td>\n",
       "      <td>4750</td>\n",
       "      <td>2333.0</td>\n",
       "      <td>130.0</td>\n",
       "      <td>360.0</td>\n",
       "      <td>1.0</td>\n",
       "      <td>2</td>\n",
       "    </tr>\n",
       "  </tbody>\n",
       "</table>\n",
       "</div>"
      ],
      "text/plain": [
       "     Gender  Married Dependents  Education  Self_Employed  ApplicantIncome  \\\n",
       "122       0        0          0          1              0             2137   \n",
       "498       1        1          1          1              1             2895   \n",
       "144       1        1          2          1              0            11757   \n",
       "217       1        1          0          1              0             3727   \n",
       "362       1        1          0          1              0             4750   \n",
       "\n",
       "     CoapplicantIncome  LoanAmount  Loan_Amount_Term  Credit_History  \\\n",
       "122             8980.0       137.0             360.0             0.0   \n",
       "498                0.0        95.0             360.0             1.0   \n",
       "144                0.0       187.0             180.0             1.0   \n",
       "217             1775.0       131.0             360.0             1.0   \n",
       "362             2333.0       130.0             360.0             1.0   \n",
       "\n",
       "     Property_Area  \n",
       "122              1  \n",
       "498              1  \n",
       "144              2  \n",
       "217              1  \n",
       "362              2  "
      ]
     },
     "execution_count": 25,
     "metadata": {},
     "output_type": "execute_result"
    }
   ],
   "source": [
    "X_train.head()"
   ]
  },
  {
   "cell_type": "code",
   "execution_count": 26,
   "id": "4473aac1",
   "metadata": {
    "execution": {
     "iopub.execute_input": "2021-10-15T18:47:52.664450Z",
     "iopub.status.busy": "2021-10-15T18:47:52.663528Z",
     "iopub.status.idle": "2021-10-15T18:49:32.210532Z",
     "shell.execute_reply": "2021-10-15T18:49:32.211085Z",
     "shell.execute_reply.started": "2021-10-15T18:41:13.381551Z"
    },
    "papermill": {
     "duration": 99.593677,
     "end_time": "2021-10-15T18:49:32.211272",
     "exception": false,
     "start_time": "2021-10-15T18:47:52.617595",
     "status": "completed"
    },
    "tags": []
   },
   "outputs": [
    {
     "data": {
      "text/plain": [
       "SVC(kernel='linear')"
      ]
     },
     "execution_count": 26,
     "metadata": {},
     "output_type": "execute_result"
    }
   ],
   "source": [
    "#training the support Vector Macine model\n",
    "classifier.fit(X_train,Y_train)"
   ]
  },
  {
   "cell_type": "markdown",
   "id": "cf00b60f",
   "metadata": {
    "papermill": {
     "duration": 0.038666,
     "end_time": "2021-10-15T18:49:32.288521",
     "exception": false,
     "start_time": "2021-10-15T18:49:32.249855",
     "status": "completed"
    },
    "tags": []
   },
   "source": [
    "Model Evaluation"
   ]
  },
  {
   "cell_type": "code",
   "execution_count": 27,
   "id": "81eb3089",
   "metadata": {
    "execution": {
     "iopub.execute_input": "2021-10-15T18:49:32.369659Z",
     "iopub.status.busy": "2021-10-15T18:49:32.368944Z",
     "iopub.status.idle": "2021-10-15T18:49:32.378834Z",
     "shell.execute_reply": "2021-10-15T18:49:32.379367Z",
     "shell.execute_reply.started": "2021-10-15T18:42:51.852445Z"
    },
    "papermill": {
     "duration": 0.052259,
     "end_time": "2021-10-15T18:49:32.379561",
     "exception": false,
     "start_time": "2021-10-15T18:49:32.327302",
     "status": "completed"
    },
    "tags": []
   },
   "outputs": [
    {
     "name": "stdout",
     "output_type": "stream",
     "text": [
      "Accuracy on training data :  0.7986111111111112\n"
     ]
    }
   ],
   "source": [
    "# accuracy score on training data\n",
    "X_train_prediction = classifier.predict(X_train)\n",
    "training_data_accuray = accuracy_score(X_train_prediction,Y_train)\n",
    "print('Accuracy on training data : ', training_data_accuray)"
   ]
  },
  {
   "cell_type": "code",
   "execution_count": 28,
   "id": "9399e943",
   "metadata": {
    "execution": {
     "iopub.execute_input": "2021-10-15T18:49:32.465494Z",
     "iopub.status.busy": "2021-10-15T18:49:32.464795Z",
     "iopub.status.idle": "2021-10-15T18:49:32.468522Z",
     "shell.execute_reply": "2021-10-15T18:49:32.468018Z",
     "shell.execute_reply.started": "2021-10-15T18:42:51.863512Z"
    },
    "papermill": {
     "duration": 0.049099,
     "end_time": "2021-10-15T18:49:32.468660",
     "exception": false,
     "start_time": "2021-10-15T18:49:32.419561",
     "status": "completed"
    },
    "tags": []
   },
   "outputs": [
    {
     "data": {
      "text/plain": [
       "368    1\n",
       "74     1\n",
       "135    0\n",
       "53     0\n",
       "96     1\n",
       "Name: Loan_Status, dtype: int64"
      ]
     },
     "execution_count": 28,
     "metadata": {},
     "output_type": "execute_result"
    }
   ],
   "source": [
    "Y_test.head()"
   ]
  },
  {
   "cell_type": "code",
   "execution_count": 29,
   "id": "dbee2ce6",
   "metadata": {
    "execution": {
     "iopub.execute_input": "2021-10-15T18:49:32.554552Z",
     "iopub.status.busy": "2021-10-15T18:49:32.553842Z",
     "iopub.status.idle": "2021-10-15T18:49:32.558541Z",
     "shell.execute_reply": "2021-10-15T18:49:32.557978Z",
     "shell.execute_reply.started": "2021-10-15T18:43:35.824866Z"
    },
    "papermill": {
     "duration": 0.050323,
     "end_time": "2021-10-15T18:49:32.558684",
     "exception": false,
     "start_time": "2021-10-15T18:49:32.508361",
     "status": "completed"
    },
    "tags": []
   },
   "outputs": [],
   "source": [
    "X_test=X_test.drop(columns=['Loan_ID'],axis=1)"
   ]
  },
  {
   "cell_type": "code",
   "execution_count": 30,
   "id": "ef860a82",
   "metadata": {
    "execution": {
     "iopub.execute_input": "2021-10-15T18:49:32.644794Z",
     "iopub.status.busy": "2021-10-15T18:49:32.644069Z",
     "iopub.status.idle": "2021-10-15T18:49:32.648571Z",
     "shell.execute_reply": "2021-10-15T18:49:32.648013Z",
     "shell.execute_reply.started": "2021-10-15T18:43:43.296229Z"
    },
    "papermill": {
     "duration": 0.050429,
     "end_time": "2021-10-15T18:49:32.648708",
     "exception": false,
     "start_time": "2021-10-15T18:49:32.598279",
     "status": "completed"
    },
    "tags": []
   },
   "outputs": [
    {
     "name": "stdout",
     "output_type": "stream",
     "text": [
      "Accuracy on test data :  0.8333333333333334\n"
     ]
    }
   ],
   "source": [
    "# accuracy score on test data\n",
    "X_test_prediction = classifier.predict(X_test)\n",
    "test_data_accuray = accuracy_score(X_test_prediction,Y_test)\n",
    "print('Accuracy on test data : ', test_data_accuray)"
   ]
  },
  {
   "cell_type": "code",
   "execution_count": 31,
   "id": "92146009",
   "metadata": {
    "execution": {
     "iopub.execute_input": "2021-10-15T18:49:32.734972Z",
     "iopub.status.busy": "2021-10-15T18:49:32.734046Z",
     "iopub.status.idle": "2021-10-15T18:49:32.737232Z",
     "shell.execute_reply": "2021-10-15T18:49:32.737743Z",
     "shell.execute_reply.started": "2021-10-15T18:43:48.736624Z"
    },
    "papermill": {
     "duration": 0.049167,
     "end_time": "2021-10-15T18:49:32.737918",
     "exception": false,
     "start_time": "2021-10-15T18:49:32.688751",
     "status": "completed"
    },
    "tags": []
   },
   "outputs": [
    {
     "name": "stdout",
     "output_type": "stream",
     "text": [
      "(480, 12) (432, 11) (48, 11) (48,)\n"
     ]
    }
   ],
   "source": [
    "print(X.shape, X_train.shape, X_test.shape,Y_test.shape)"
   ]
  },
  {
   "cell_type": "code",
   "execution_count": 32,
   "id": "1e0d6eb3",
   "metadata": {
    "execution": {
     "iopub.execute_input": "2021-10-15T18:49:32.824313Z",
     "iopub.status.busy": "2021-10-15T18:49:32.823550Z",
     "iopub.status.idle": "2021-10-15T18:49:32.826907Z",
     "shell.execute_reply": "2021-10-15T18:49:32.827472Z",
     "shell.execute_reply.started": "2021-10-15T18:46:45.086439Z"
    },
    "papermill": {
     "duration": 0.049488,
     "end_time": "2021-10-15T18:49:32.827653",
     "exception": false,
     "start_time": "2021-10-15T18:49:32.778165",
     "status": "completed"
    },
    "tags": []
   },
   "outputs": [
    {
     "name": "stdout",
     "output_type": "stream",
     "text": [
      "368    1\n",
      "74     1\n",
      "135    0\n",
      "53     0\n",
      "96     1\n",
      "388    1\n",
      "345    1\n",
      "8      1\n",
      "549    1\n",
      "99     1\n",
      "49     1\n",
      "513    0\n",
      "43     1\n",
      "92     1\n",
      "555    1\n",
      "609    1\n",
      "221    1\n",
      "454    1\n",
      "607    1\n",
      "179    0\n",
      "277    1\n",
      "488    1\n",
      "150    0\n",
      "585    0\n",
      "168    0\n",
      "267    1\n",
      "543    1\n",
      "520    1\n",
      "22     0\n",
      "69     0\n",
      "91     1\n",
      "250    0\n",
      "416    0\n",
      "154    1\n",
      "415    1\n",
      "291    0\n",
      "253    1\n",
      "97     1\n",
      "393    1\n",
      "399    0\n",
      "537    1\n",
      "15     1\n",
      "469    0\n",
      "371    1\n",
      "300    0\n",
      "189    1\n",
      "224    1\n",
      "201    1\n",
      "Name: Loan_Status, dtype: int64\n"
     ]
    }
   ],
   "source": [
    "print(Y_test)"
   ]
  },
  {
   "cell_type": "code",
   "execution_count": 33,
   "id": "e8069c9e",
   "metadata": {
    "execution": {
     "iopub.execute_input": "2021-10-15T18:49:32.916073Z",
     "iopub.status.busy": "2021-10-15T18:49:32.915034Z",
     "iopub.status.idle": "2021-10-15T18:49:32.921094Z",
     "shell.execute_reply": "2021-10-15T18:49:32.921769Z",
     "shell.execute_reply.started": "2021-10-15T18:46:58.869022Z"
    },
    "papermill": {
     "duration": 0.053513,
     "end_time": "2021-10-15T18:49:32.922012",
     "exception": false,
     "start_time": "2021-10-15T18:49:32.868499",
     "status": "completed"
    },
    "tags": []
   },
   "outputs": [
    {
     "name": "stdout",
     "output_type": "stream",
     "text": [
      "Your submission was successfully saved!\n"
     ]
    }
   ],
   "source": [
    "output = pd.DataFrame({'Loan_id':Loan_id, 'label':Y_test})\n",
    "output.to_csv('submission.csv', index=False)\n",
    "print(\"Your submission was successfully saved!\")"
   ]
  },
  {
   "cell_type": "code",
   "execution_count": null,
   "id": "6d82102d",
   "metadata": {
    "papermill": {
     "duration": 0.04066,
     "end_time": "2021-10-15T18:49:33.004409",
     "exception": false,
     "start_time": "2021-10-15T18:49:32.963749",
     "status": "completed"
    },
    "tags": []
   },
   "outputs": [],
   "source": []
  }
 ],
 "metadata": {
  "kernelspec": {
   "display_name": "Python 3",
   "language": "python",
   "name": "python3"
  },
  "language_info": {
   "codemirror_mode": {
    "name": "ipython",
    "version": 3
   },
   "file_extension": ".py",
   "mimetype": "text/x-python",
   "name": "python",
   "nbconvert_exporter": "python",
   "pygments_lexer": "ipython3",
   "version": "3.7.10"
  },
  "papermill": {
   "default_parameters": {},
   "duration": 115.417038,
   "end_time": "2021-10-15T18:49:33.757591",
   "environment_variables": {},
   "exception": null,
   "input_path": "__notebook__.ipynb",
   "output_path": "__notebook__.ipynb",
   "parameters": {},
   "start_time": "2021-10-15T18:47:38.340553",
   "version": "2.3.3"
  }
 },
 "nbformat": 4,
 "nbformat_minor": 5
}
